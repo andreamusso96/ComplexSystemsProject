{
 "cells": [
  {
   "cell_type": "code",
   "execution_count": 1,
   "metadata": {},
   "outputs": [],
   "source": [
    "import Functions\n",
    "from News import News\n",
    "import networkx as nx\n",
    "from World import World\n",
    "from Simulation import Simulation"
   ]
  },
  {
   "cell_type": "code",
   "execution_count": 2,
   "metadata": {},
   "outputs": [],
   "source": [
    "%load_ext autoreload\n",
    "%autoreload 2"
   ]
  },
  {
   "cell_type": "code",
   "execution_count": 3,
   "metadata": {},
   "outputs": [],
   "source": [
    "n1 = News(1,0,0)\n",
    "n2 = News(2,0,0)\n",
    "news = {n1.name:n1, n2.name:n2}"
   ]
  },
  {
   "cell_type": "code",
   "execution_count": 4,
   "metadata": {},
   "outputs": [],
   "source": [
    "number_agents = 5\n",
    "threshold = 0.2\n",
    "independence = 0.1"
   ]
  },
  {
   "cell_type": "code",
   "execution_count": 24,
   "metadata": {},
   "outputs": [],
   "source": [
    "initial_active_agents = {}"
   ]
  },
  {
   "cell_type": "markdown",
   "metadata": {},
   "source": [
    "# TEST AGENT CLASS"
   ]
  },
  {
   "cell_type": "code",
   "execution_count": 5,
   "metadata": {},
   "outputs": [],
   "source": [
    "graph = Functions.create_graph(number_agents)"
   ]
  },
  {
   "cell_type": "code",
   "execution_count": 6,
   "metadata": {},
   "outputs": [],
   "source": [
    "my_agents = Functions.construct_agent_constant_parameters(number_agents, threshold, independence, news, graph)"
   ]
  },
  {
   "cell_type": "code",
   "execution_count": 7,
   "metadata": {},
   "outputs": [
    {
     "name": "stdout",
     "output_type": "stream",
     "text": [
      " \n",
      "----------------------\n",
      "Agent: 0\n",
      "states: {1: 0, 2: 0}\n",
      "threshold: 0.2\n",
      "independence: 0.1\n",
      "providers: [3]\n",
      "receivers: [3]\n",
      "weights_providers: {3: 1.0}\n",
      "weights_receivers: {3: 0.125}\n",
      "is active:  False\n",
      "----------------------\n",
      " \n",
      " \n",
      "----------------------\n",
      "Agent: 1\n",
      "states: {1: 0, 2: 0}\n",
      "threshold: 0.2\n",
      "independence: 0.1\n",
      "providers: [3, 4]\n",
      "receivers: [3, 4]\n",
      "weights_providers: {3: 0.5714285714285714, 4: 0.42857142857142855}\n",
      "weights_receivers: {3: 0.25, 4: 0.25}\n",
      "is active:  False\n",
      "----------------------\n",
      " \n",
      " \n",
      "----------------------\n",
      "Agent: 2\n",
      "states: {1: 0, 2: 0}\n",
      "threshold: 0.2\n",
      "independence: 0.1\n",
      "providers: [3, 4]\n",
      "receivers: [3, 4]\n",
      "weights_providers: {3: 0.5714285714285714, 4: 0.42857142857142855}\n",
      "weights_receivers: {3: 0.25, 4: 0.25}\n",
      "is active:  False\n",
      "----------------------\n",
      " \n",
      " \n",
      "----------------------\n",
      "Agent: 3\n",
      "states: {1: 0, 2: 0}\n",
      "threshold: 0.2\n",
      "independence: 0.1\n",
      "providers: [0, 1, 2, 4]\n",
      "receivers: [0, 1, 2, 4]\n",
      "weights_providers: {0: 0.125, 1: 0.25, 2: 0.25, 4: 0.375}\n",
      "weights_receivers: {0: 1.0, 1: 0.5714285714285714, 2: 0.5714285714285714, 4: 0.5}\n",
      "is active:  False\n",
      "----------------------\n",
      " \n",
      " \n",
      "----------------------\n",
      "Agent: 4\n",
      "states: {1: 0, 2: 0}\n",
      "threshold: 0.2\n",
      "independence: 0.1\n",
      "providers: [1, 2, 3]\n",
      "receivers: [1, 3, 2]\n",
      "weights_providers: {1: 0.25, 2: 0.25, 3: 0.5}\n",
      "weights_receivers: {1: 0.42857142857142855, 3: 0.375, 2: 0.42857142857142855}\n",
      "is active:  False\n",
      "----------------------\n",
      " \n"
     ]
    }
   ],
   "source": [
    "for agent in my_agents.values():\n",
    "    print(' ')\n",
    "    print('----------------------')\n",
    "    print(agent)\n",
    "    print('is active: ', agent.is_active())\n",
    "    print('----------------------')\n",
    "    print(' ')"
   ]
  },
  {
   "cell_type": "code",
   "execution_count": 8,
   "metadata": {},
   "outputs": [],
   "source": [
    "my_agents[3].states[1] = 2\n",
    "my_agents[3].states[2] = 1"
   ]
  },
  {
   "cell_type": "code",
   "execution_count": 9,
   "metadata": {},
   "outputs": [
    {
     "data": {
      "text/plain": [
       "{1: 2, 2: 1}"
      ]
     },
     "execution_count": 9,
     "metadata": {},
     "output_type": "execute_result"
    }
   ],
   "source": [
    "my_agents[3].states"
   ]
  },
  {
   "cell_type": "code",
   "execution_count": 10,
   "metadata": {},
   "outputs": [
    {
     "data": {
      "text/plain": [
       "1"
      ]
     },
     "execution_count": 10,
     "metadata": {},
     "output_type": "execute_result"
    }
   ],
   "source": [
    "my_agents[3].name_news_active()"
   ]
  },
  {
   "cell_type": "code",
   "execution_count": 11,
   "metadata": {},
   "outputs": [
    {
     "data": {
      "text/plain": [
       "{1: 0, 2: 0}"
      ]
     },
     "execution_count": 11,
     "metadata": {},
     "output_type": "execute_result"
    }
   ],
   "source": [
    "my_agents[0].states"
   ]
  },
  {
   "cell_type": "code",
   "execution_count": 12,
   "metadata": {},
   "outputs": [],
   "source": [
    "my_agents[0].states[1] = 1\n",
    "my_agents[0].states[2] = 1"
   ]
  },
  {
   "cell_type": "code",
   "execution_count": 13,
   "metadata": {},
   "outputs": [
    {
     "data": {
      "text/plain": [
       "{1: 2, 2: 1}"
      ]
     },
     "execution_count": 13,
     "metadata": {},
     "output_type": "execute_result"
    }
   ],
   "source": [
    "my_agents[0].updated_states(news,my_agents)"
   ]
  },
  {
   "cell_type": "code",
   "execution_count": 14,
   "metadata": {},
   "outputs": [
    {
     "data": {
      "image/png": "[encoded data removed]",
      "text/plain": [
       "<Figure size 432x288 with 1 Axes>"
      ]
     },
     "metadata": {},
     "output_type": "display_data"
    }
   ],
   "source": [
    "options = { 'node_color': 'green',   'node_size': 1000,    'width': 1, 'font_size' : 20}  \n",
    "nx.draw(graph, pos=nx.circular_layout(graph), with_labels = True, **options)  #"
   ]
  },
  {
   "cell_type": "markdown",
   "metadata": {},
   "source": [
    "# TEST WORLD CLASS"
   ]
  },
  {
   "cell_type": "code",
   "execution_count": 15,
   "metadata": {},
   "outputs": [],
   "source": [
    "my_world = Functions.construct_world_constant_parameters(number_agents, threshold, independence, news)"
   ]
  },
  {
   "cell_type": "code",
   "execution_count": 16,
   "metadata": {
    "scrolled": true
   },
   "outputs": [
    {
     "name": "stdout",
     "output_type": "stream",
     "text": [
      " \n",
      "----------------------\n",
      "Agent: 0\n",
      "states: {1: 0, 2: 0}\n",
      "threshold: 0.2\n",
      "independence: 0.1\n",
      "providers: [3]\n",
      "receivers: [3]\n",
      "weights_providers: {3: 1.0}\n",
      "weights_receivers: {3: 0.125}\n",
      "----------------------\n",
      " \n",
      " \n",
      "----------------------\n",
      "Agent: 1\n",
      "states: {1: 0, 2: 0}\n",
      "threshold: 0.2\n",
      "independence: 0.1\n",
      "providers: [3, 4]\n",
      "receivers: [3, 4]\n",
      "weights_providers: {3: 0.5714285714285714, 4: 0.42857142857142855}\n",
      "weights_receivers: {3: 0.25, 4: 0.25}\n",
      "----------------------\n",
      " \n",
      " \n",
      "----------------------\n",
      "Agent: 2\n",
      "states: {1: 0, 2: 0}\n",
      "threshold: 0.2\n",
      "independence: 0.1\n",
      "providers: [3, 4]\n",
      "receivers: [3, 4]\n",
      "weights_providers: {3: 0.5714285714285714, 4: 0.42857142857142855}\n",
      "weights_receivers: {3: 0.25, 4: 0.25}\n",
      "----------------------\n",
      " \n",
      " \n",
      "----------------------\n",
      "Agent: 3\n",
      "states: {1: 0, 2: 0}\n",
      "threshold: 0.2\n",
      "independence: 0.1\n",
      "providers: [0, 1, 2, 4]\n",
      "receivers: [0, 1, 2, 4]\n",
      "weights_providers: {0: 0.125, 1: 0.25, 2: 0.25, 4: 0.375}\n",
      "weights_receivers: {0: 1.0, 1: 0.5714285714285714, 2: 0.5714285714285714, 4: 0.5}\n",
      "----------------------\n",
      " \n",
      " \n",
      "----------------------\n",
      "Agent: 4\n",
      "states: {1: 0, 2: 0}\n",
      "threshold: 0.2\n",
      "independence: 0.1\n",
      "providers: [1, 2, 3]\n",
      "receivers: [1, 2, 3]\n",
      "weights_providers: {1: 0.25, 2: 0.25, 3: 0.5}\n",
      "weights_receivers: {1: 0.42857142857142855, 2: 0.42857142857142855, 3: 0.375}\n",
      "----------------------\n",
      " \n"
     ]
    }
   ],
   "source": [
    "for agent in my_world.agents.values():\n",
    "    print(' ')\n",
    "    print('----------------------')\n",
    "    print(agent)\n",
    "    print('----------------------')\n",
    "    print(' ')"
   ]
  },
  {
   "cell_type": "code",
   "execution_count": 17,
   "metadata": {},
   "outputs": [
    {
     "data": {
      "image/png": "[encoded data removed]",
      "text/plain": [
       "<Figure size 432x288 with 1 Axes>"
      ]
     },
     "metadata": {},
     "output_type": "display_data"
    }
   ],
   "source": [
    "options = { 'node_color': 'green',   'node_size': 1000,    'width': 1, 'font_size' : 20}  \n",
    "nx.draw(my_world.graph, pos=nx.circular_layout(my_world.graph), with_labels = True, **options)  #"
   ]
  },
  {
   "cell_type": "markdown",
   "metadata": {},
   "source": [
    "# TEST CLASS SIMULATION"
   ]
  },
  {
   "cell_type": "code",
   "execution_count": 18,
   "metadata": {},
   "outputs": [],
   "source": [
    "simulation_time = 5"
   ]
  },
  {
   "cell_type": "code",
   "execution_count": 19,
   "metadata": {},
   "outputs": [],
   "source": [
    "simulation = Simulation(number_agents, threshold, independence, news, simulation_time, initial_active_agents)"
   ]
  },
  {
   "cell_type": "code",
   "execution_count": 20,
   "metadata": {
    "scrolled": true
   },
   "outputs": [
    {
     "data": {
      "image/png": "[encoded data removed]",
      "text/plain": [
       "<Figure size 432x288 with 1 Axes>"
      ]
     },
     "metadata": {},
     "output_type": "display_data"
    }
   ],
   "source": [
    "options = { 'node_color': 'green',   'node_size': 1000,    'width': 1, 'font_size' : 20}  \n",
    "nx.draw(simulation.world.graph, pos=nx.circular_layout(simulation.world.graph), with_labels = True, **options)  #"
   ]
  },
  {
   "cell_type": "code",
   "execution_count": 21,
   "metadata": {},
   "outputs": [],
   "source": [
    "simulation.world.agents[3].states[1] = 2"
   ]
  },
  {
   "cell_type": "code",
   "execution_count": 22,
   "metadata": {},
   "outputs": [
    {
     "name": "stdout",
     "output_type": "stream",
     "text": [
      "Time:  0\n",
      " \n",
      "--------------------\n",
      "Agent: 0\n",
      "states: {1: 2, 2: 0}\n",
      "threshold: 0.2\n",
      "independence: 0.1\n",
      "providers: [3, 4]\n",
      "receivers: [3, 4]\n",
      "weights_providers: {3: 0.5714285714285714, 4: 0.42857142857142855}\n",
      "weights_receivers: {3: 0.25, 4: 0.25}\n",
      "--------------------\n",
      " \n",
      " \n",
      "--------------------\n",
      "Agent: 1\n",
      "states: {1: 2, 2: 0}\n",
      "threshold: 0.2\n",
      "independence: 0.1\n",
      "providers: [3]\n",
      "receivers: [3]\n",
      "weights_providers: {3: 1.0}\n",
      "weights_receivers: {3: 0.125}\n",
      "--------------------\n",
      " \n",
      " \n",
      "--------------------\n",
      "Agent: 2\n",
      "states: {1: 2, 2: 0}\n",
      "threshold: 0.2\n",
      "independence: 0.1\n",
      "providers: [3, 4]\n",
      "receivers: [3, 4]\n",
      "weights_providers: {3: 0.5714285714285714, 4: 0.42857142857142855}\n",
      "weights_receivers: {3: 0.25, 4: 0.25}\n",
      "--------------------\n",
      " \n",
      " \n",
      "--------------------\n",
      "Agent: 3\n",
      "states: {1: 1, 2: 0}\n",
      "threshold: 0.2\n",
      "independence: 0.1\n",
      "providers: [0, 1, 2, 4]\n",
      "receivers: [0, 1, 2, 4]\n",
      "weights_providers: {0: 0.25, 1: 0.125, 2: 0.25, 4: 0.375}\n",
      "weights_receivers: {0: 0.5714285714285714, 1: 1.0, 2: 0.5714285714285714, 4: 0.5}\n",
      "--------------------\n",
      " \n",
      " \n",
      "--------------------\n",
      "Agent: 4\n",
      "states: {1: 2, 2: 0}\n",
      "threshold: 0.2\n",
      "independence: 0.1\n",
      "providers: [0, 2, 3]\n",
      "receivers: [0, 3, 2]\n",
      "weights_providers: {0: 0.25, 2: 0.25, 3: 0.5}\n",
      "weights_receivers: {0: 0.42857142857142855, 3: 0.375, 2: 0.42857142857142855}\n",
      "--------------------\n",
      " \n",
      "Time:  1\n",
      " \n",
      "--------------------\n",
      "Agent: 0\n",
      "states: {1: 2, 2: 0}\n",
      "threshold: 0.2\n",
      "independence: 0.1\n",
      "providers: [3, 4]\n",
      "receivers: [3, 4]\n",
      "weights_providers: {3: 0.5714285714285714, 4: 0.42857142857142855}\n",
      "weights_receivers: {3: 0.25, 4: 0.25}\n",
      "--------------------\n",
      " \n",
      " \n",
      "--------------------\n",
      "Agent: 1\n",
      "states: {1: 1, 2: 0}\n",
      "threshold: 0.2\n",
      "independence: 0.1\n",
      "providers: [3]\n",
      "receivers: [3]\n",
      "weights_providers: {3: 1.0}\n",
      "weights_receivers: {3: 0.125}\n",
      "--------------------\n",
      " \n",
      " \n",
      "--------------------\n",
      "Agent: 2\n",
      "states: {1: 2, 2: 0}\n",
      "threshold: 0.2\n",
      "independence: 0.1\n",
      "providers: [3, 4]\n",
      "receivers: [3, 4]\n",
      "weights_providers: {3: 0.5714285714285714, 4: 0.42857142857142855}\n",
      "weights_receivers: {3: 0.25, 4: 0.25}\n",
      "--------------------\n",
      " \n",
      " \n",
      "--------------------\n",
      "Agent: 3\n",
      "states: {1: 2, 2: 0}\n",
      "threshold: 0.2\n",
      "independence: 0.1\n",
      "providers: [0, 1, 2, 4]\n",
      "receivers: [0, 1, 2, 4]\n",
      "weights_providers: {0: 0.25, 1: 0.125, 2: 0.25, 4: 0.375}\n",
      "weights_receivers: {0: 0.5714285714285714, 1: 1.0, 2: 0.5714285714285714, 4: 0.5}\n",
      "--------------------\n",
      " \n",
      " \n",
      "--------------------\n",
      "Agent: 4\n",
      "states: {1: 2, 2: 0}\n",
      "threshold: 0.2\n",
      "independence: 0.1\n",
      "providers: [0, 2, 3]\n",
      "receivers: [0, 3, 2]\n",
      "weights_providers: {0: 0.25, 2: 0.25, 3: 0.5}\n",
      "weights_receivers: {0: 0.42857142857142855, 3: 0.375, 2: 0.42857142857142855}\n",
      "--------------------\n",
      " \n",
      "Time:  2\n",
      " \n",
      "--------------------\n",
      "Agent: 0\n",
      "states: {1: 2, 2: 0}\n",
      "threshold: 0.2\n",
      "independence: 0.1\n",
      "providers: [3, 4]\n",
      "receivers: [3, 4]\n",
      "weights_providers: {3: 0.5714285714285714, 4: 0.42857142857142855}\n",
      "weights_receivers: {3: 0.25, 4: 0.25}\n",
      "--------------------\n",
      " \n",
      " \n",
      "--------------------\n",
      "Agent: 1\n",
      "states: {1: 2, 2: 0}\n",
      "threshold: 0.2\n",
      "independence: 0.1\n",
      "providers: [3]\n",
      "receivers: [3]\n",
      "weights_providers: {3: 1.0}\n",
      "weights_receivers: {3: 0.125}\n",
      "--------------------\n",
      " \n",
      " \n",
      "--------------------\n",
      "Agent: 2\n",
      "states: {1: 2, 2: 0}\n",
      "threshold: 0.2\n",
      "independence: 0.1\n",
      "providers: [3, 4]\n",
      "receivers: [3, 4]\n",
      "weights_providers: {3: 0.5714285714285714, 4: 0.42857142857142855}\n",
      "weights_receivers: {3: 0.25, 4: 0.25}\n",
      "--------------------\n",
      " \n",
      " \n",
      "--------------------\n",
      "Agent: 3\n",
      "states: {1: 2, 2: 0}\n",
      "threshold: 0.2\n",
      "independence: 0.1\n",
      "providers: [0, 1, 2, 4]\n",
      "receivers: [0, 1, 2, 4]\n",
      "weights_providers: {0: 0.25, 1: 0.125, 2: 0.25, 4: 0.375}\n",
      "weights_receivers: {0: 0.5714285714285714, 1: 1.0, 2: 0.5714285714285714, 4: 0.5}\n",
      "--------------------\n",
      " \n",
      " \n",
      "--------------------\n",
      "Agent: 4\n",
      "states: {1: 2, 2: 0}\n",
      "threshold: 0.2\n",
      "independence: 0.1\n",
      "providers: [0, 2, 3]\n",
      "receivers: [0, 3, 2]\n",
      "weights_providers: {0: 0.25, 2: 0.25, 3: 0.5}\n",
      "weights_receivers: {0: 0.42857142857142855, 3: 0.375, 2: 0.42857142857142855}\n",
      "--------------------\n",
      " \n",
      "Time:  3\n",
      " \n",
      "--------------------\n",
      "Agent: 0\n",
      "states: {1: 2, 2: 0}\n",
      "threshold: 0.2\n",
      "independence: 0.1\n",
      "providers: [3, 4]\n",
      "receivers: [3, 4]\n",
      "weights_providers: {3: 0.5714285714285714, 4: 0.42857142857142855}\n",
      "weights_receivers: {3: 0.25, 4: 0.25}\n",
      "--------------------\n",
      " \n",
      " \n",
      "--------------------\n",
      "Agent: 1\n",
      "states: {1: 2, 2: 0}\n",
      "threshold: 0.2\n",
      "independence: 0.1\n",
      "providers: [3]\n",
      "receivers: [3]\n",
      "weights_providers: {3: 1.0}\n",
      "weights_receivers: {3: 0.125}\n",
      "--------------------\n",
      " \n",
      " \n",
      "--------------------\n",
      "Agent: 2\n",
      "states: {1: 2, 2: 0}\n",
      "threshold: 0.2\n",
      "independence: 0.1\n",
      "providers: [3, 4]\n",
      "receivers: [3, 4]\n",
      "weights_providers: {3: 0.5714285714285714, 4: 0.42857142857142855}\n",
      "weights_receivers: {3: 0.25, 4: 0.25}\n",
      "--------------------\n",
      " \n",
      " \n",
      "--------------------\n",
      "Agent: 3\n",
      "states: {1: 2, 2: 0}\n",
      "threshold: 0.2\n",
      "independence: 0.1\n",
      "providers: [0, 1, 2, 4]\n",
      "receivers: [0, 1, 2, 4]\n",
      "weights_providers: {0: 0.25, 1: 0.125, 2: 0.25, 4: 0.375}\n",
      "weights_receivers: {0: 0.5714285714285714, 1: 1.0, 2: 0.5714285714285714, 4: 0.5}\n",
      "--------------------\n",
      " \n",
      " \n",
      "--------------------\n",
      "Agent: 4\n",
      "states: {1: 2, 2: 0}\n",
      "threshold: 0.2\n",
      "independence: 0.1\n",
      "providers: [0, 2, 3]\n",
      "receivers: [0, 3, 2]\n",
      "weights_providers: {0: 0.25, 2: 0.25, 3: 0.5}\n",
      "weights_receivers: {0: 0.42857142857142855, 3: 0.375, 2: 0.42857142857142855}\n",
      "--------------------\n",
      " \n",
      "Time:  4\n",
      " \n",
      "--------------------\n",
      "Agent: 0\n",
      "states: {1: 2, 2: 0}\n",
      "threshold: 0.2\n",
      "independence: 0.1\n",
      "providers: [3, 4]\n",
      "receivers: [3, 4]\n",
      "weights_providers: {3: 0.5714285714285714, 4: 0.42857142857142855}\n",
      "weights_receivers: {3: 0.25, 4: 0.25}\n",
      "--------------------\n",
      " \n",
      " \n",
      "--------------------\n",
      "Agent: 1\n",
      "states: {1: 2, 2: 0}\n",
      "threshold: 0.2\n",
      "independence: 0.1\n",
      "providers: [3]\n",
      "receivers: [3]\n",
      "weights_providers: {3: 1.0}\n",
      "weights_receivers: {3: 0.125}\n",
      "--------------------\n",
      " \n",
      " \n",
      "--------------------\n",
      "Agent: 2\n",
      "states: {1: 2, 2: 0}\n",
      "threshold: 0.2\n",
      "independence: 0.1\n",
      "providers: [3, 4]\n",
      "receivers: [3, 4]\n",
      "weights_providers: {3: 0.5714285714285714, 4: 0.42857142857142855}\n",
      "weights_receivers: {3: 0.25, 4: 0.25}\n",
      "--------------------\n",
      " \n",
      " \n",
      "--------------------\n",
      "Agent: 3\n",
      "states: {1: 2, 2: 0}\n",
      "threshold: 0.2\n",
      "independence: 0.1\n",
      "providers: [0, 1, 2, 4]\n",
      "receivers: [0, 1, 2, 4]\n",
      "weights_providers: {0: 0.25, 1: 0.125, 2: 0.25, 4: 0.375}\n",
      "weights_receivers: {0: 0.5714285714285714, 1: 1.0, 2: 0.5714285714285714, 4: 0.5}\n",
      "--------------------\n",
      " \n",
      " \n",
      "--------------------\n",
      "Agent: 4\n",
      "states: {1: 2, 2: 0}\n",
      "threshold: 0.2\n",
      "independence: 0.1\n",
      "providers: [0, 2, 3]\n",
      "receivers: [0, 3, 2]\n",
      "weights_providers: {0: 0.25, 2: 0.25, 3: 0.5}\n",
      "weights_receivers: {0: 0.42857142857142855, 3: 0.375, 2: 0.42857142857142855}\n",
      "--------------------\n",
      " \n"
     ]
    }
   ],
   "source": [
    "simulation.run_simulation()"
   ]
  },
  {
   "cell_type": "code",
   "execution_count": null,
   "metadata": {},
   "outputs": [],
   "source": []
  }
 ],
 "metadata": {
  "kernelspec": {
   "display_name": "Python 3",
   "language": "python",
   "name": "python3"
  },
  "language_info": {
   "codemirror_mode": {
    "name": "ipython",
    "version": 3
   },
   "file_extension": ".py",
   "mimetype": "text/x-python",
   "name": "python",
   "nbconvert_exporter": "python",
   "pygments_lexer": "ipython3",
   "version": "3.8.5"
  }
 },
 "nbformat": 4,
 "nbformat_minor": 4
}
