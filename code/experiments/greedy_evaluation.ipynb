{
 "cells": [
  {
   "cell_type": "markdown",
   "metadata": {},
   "source": [
    "# Compare Greedy Algorithm to Degree Centrality\n",
    "This code goes through different numbers of starting set sizes and computes both the most degree central and the greedy approximated starting set. It then runs the simulation on both of them seperately and compares the resulting cascade sizes. Additionaly, it applies the function that the greedy algorithm uses to estimate the cascade size on both sets. Then for each size, the mean over multiple samples is plotted."
   ]
  },
  {
   "cell_type": "code",
   "execution_count": 1,
   "metadata": {},
   "outputs": [],
   "source": [
    "import matplotlib.pyplot as plt\n",
    "import numpy as np\n",
    "import networkx as nx\n",
    "from copy import deepcopy\n",
    "\n",
    "import os\n",
    "import sys\n",
    "sys.path.append(os.path.dirname(os.path.abspath('')))\n",
    "\n",
    "from model.agent import Agent\n",
    "from model.world import World\n",
    "\n",
    "from model.utils import *\n",
    "from model.news import News\n",
    "from model.agent import AgentState"
   ]
  },
  {
   "cell_type": "code",
   "execution_count": 2,
   "metadata": {},
   "outputs": [],
   "source": [
    "def cascadesize(world):\n",
    "    return sum([1 if a.is_active() else 0 for a in world.agents.values()])\n",
    "\n",
    "def measure_cascadesize(world, starting, max_iter):\n",
    "    for a in starting.keys():\n",
    "        a.states[starting[a]] = AgentState.ACTIVE\n",
    "    for iter in range(1, max_iter):\n",
    "        x = world.update(verbose=True)\n",
    "        if x == 0:\n",
    "            break\n",
    "    return cascadesize(world)"
   ]
  },
  {
   "cell_type": "code",
   "execution_count": 3,
   "metadata": {},
   "outputs": [],
   "source": [
    "def comp_starting_sets(worlds, sets, max_iter = 20):\n",
    "    ccs = []\n",
    "    for s, w in zip(sets, worlds):\n",
    "        ccs.append(measure_cascadesize(w, s, max_iter))\n",
    "    return ccs"
   ]
  },
  {
   "cell_type": "code",
   "execution_count": 4,
   "metadata": {},
   "outputs": [],
   "source": [
    "def compute(sizes, samples = 5):\n",
    "    \"\"\"\n",
    "    takes very long to run!\n",
    "    \"\"\"\n",
    "    c_greedy = [0 for _ in range(len(sizes))]\n",
    "    c_degree = [0 for _ in range(len(sizes))]\n",
    "    est_greedy = [0 for _ in range(len(sizes))]\n",
    "    est_degree = [0 for _ in range(len(sizes))]\n",
    "    i = 0\n",
    "    for k in sizes:\n",
    "        for _ in range(samples):\n",
    "            sensation_news = 0.5\n",
    "            decay_parameter_news = 0\n",
    "            n1 = News(0, sensation_news, decay_parameter_news)\n",
    "            news1 = {n1.name: n1}\n",
    "            number_agents = 200\n",
    "            names_agents = [_ for _ in range(number_agents)]\n",
    "            threshold = np.random.random(number_agents)\n",
    "            independence = np.random.random(number_agents)\n",
    "            w1 = construct_world(names_agents, threshold, independence, news1)\n",
    "            w2 = deepcopy(w1)\n",
    "            kset = approx_most_influential(w1, k, sample_size=25, verbose=False) #THIS TAKES SOME TIME !!!\n",
    "            s1 = {}\n",
    "            for agent in kset:\n",
    "                s1[agent] = 0\n",
    "            degree_centrality = []\n",
    "            for _ in range(k):\n",
    "                best = None\n",
    "                bdeg = -1\n",
    "                for a in w2.graph.nodes():\n",
    "                    if w2.agents[a] in degree_centrality:\n",
    "                        continue\n",
    "                    d = w2.graph.out_degree(a)\n",
    "                    if d > bdeg:\n",
    "                        bdeg = d\n",
    "                        best = w2.agents[a]\n",
    "                degree_centrality.append(best)\n",
    "            s2 = {}\n",
    "            for agent in degree_centrality:\n",
    "                s2[agent] = 0\n",
    "            print([a.name for a in kset])\n",
    "            print([a.name for a in degree_centrality])\n",
    "            #reapplying the estimation for the influence used in the greedy algorithm to the solutions\n",
    "            est_greedy[i] += get_expected_number_of_influenced_agents(w1, [a.name for a in kset], 100) / np.float64(samples)\n",
    "            est_degree[i] += get_expected_number_of_influenced_agents(w2, [a.name for a in degree_centrality], 100) / np.float64(samples)\n",
    "            n = 50\n",
    "            c1, c2 = comp_starting_sets([w1, w2], [s1, s2], n)\n",
    "            c_greedy[i] += c1 / np.float64(samples)\n",
    "            c_degree[i] += c2 / np.float64(samples)\n",
    "        print(k)\n",
    "        i += 1\n",
    "    return (c_greedy, c_degree, est_greedy, est_degree)"
   ]
  },
  {
   "cell_type": "code",
   "execution_count": 5,
   "metadata": {},
   "outputs": [
    {
     "name": "stdout",
     "output_type": "stream",
     "text": [
      "[0]\n",
      "[0]\n",
      "[52]\n",
      "[3]\n",
      "[3]\n",
      "[3]\n",
      "[3]\n",
      "[3]\n",
      "[12]\n",
      "[12]\n",
      "1\n",
      "[3, 11, 98]\n",
      "[4, 3, 12]\n",
      "[89, 9, 20]\n",
      "[3, 9, 2]\n",
      "[1, 6, 0]\n",
      "[1, 3, 11]\n",
      "[3, 0, 6]\n",
      "[3, 0, 4]\n",
      "[3, 81, 54]\n",
      "[3, 8, 2]\n",
      "3\n",
      "[3, 13, 61, 7, 59]\n",
      "[3, 0, 6, 5, 4]\n",
      "[3, 25, 0, 19, 9]\n",
      "[3, 0, 25, 8, 19]\n",
      "[3, 1, 22, 19, 69]\n",
      "[3, 1, 0, 8, 6]\n",
      "[2, 16, 9, 22, 93]\n",
      "[3, 4, 0, 11, 2]\n",
      "[95, 33, 10, 26, 51]\n",
      "[0, 3, 4, 10, 32]\n",
      "5\n",
      "[2, 8, 3, 85, 5, 20, 84, 99, 55, 9]\n",
      "[2, 8, 3, 5, 9, 1, 4, 16, 6, 20]\n",
      "[88, 3, 1, 6, 0, 17, 86, 28, 87, 9]\n",
      "[3, 4, 1, 8, 9, 6, 17, 5, 33, 18]\n",
      "[3, 48, 45, 19, 5, 39, 14, 21, 49, 71]\n",
      "[3, 5, 1, 2, 0, 8, 6, 20, 24, 16]\n",
      "[2, 33, 8, 65, 3, 68, 78, 4, 6, 34]\n",
      "[2, 8, 0, 3, 17, 24, 6, 4, 5, 10]\n",
      "[1, 80, 3, 51, 45, 18, 59, 37, 55, 34]\n",
      "[1, 3, 0, 5, 4, 16, 8, 11, 25, 26]\n",
      "10\n",
      "[3, 0, 2, 4, 32, 10, 19, 72, 53, 97, 33, 39, 84, 92, 8, 70, 66, 68, 34, 74, 54, 80, 96, 82, 85]\n",
      "[3, 0, 4, 2, 9, 8, 10, 32, 1, 12, 6, 5, 13, 17, 18, 43, 14, 20, 33, 16, 19, 36, 37, 39, 49]\n",
      "[3, 80, 71, 54, 18, 96, 97, 5, 63, 11, 20, 58, 12, 42, 65, 98, 49, 16, 23, 15, 60, 9, 67, 33, 90]\n",
      "[3, 2, 0, 4, 11, 18, 9, 16, 1, 6, 13, 17, 5, 8, 10, 26, 40, 7, 12, 15, 19, 23, 25, 33, 27]\n",
      "[0, 77, 9, 80, 32, 95, 16, 96, 25, 63, 50, 59, 85, 28, 55, 13, 87, 70, 68, 3, 98, 74, 17, 20, 2]\n",
      "[0, 9, 4, 8, 3, 7, 10, 12, 2, 48, 6, 18, 42, 17, 25, 32, 40, 26, 27, 30, 61, 11, 13, 24, 28]\n",
      "[94, 55, 93, 62, 47, 24, 18, 61, 77, 16, 69, 10, 40, 34, 14, 3, 71, 17, 58, 29, 75, 87, 46, 66, 74]\n",
      "[3, 8, 4, 0, 2, 9, 10, 17, 18, 1, 25, 7, 12, 16, 5, 6, 26, 19, 20, 24, 40, 53, 21, 39, 50]\n",
      "[3, 1, 14, 8, 29, 59, 0, 13, 17, 22, 4, 18, 98, 46, 54, 87, 10, 2, 41, 25, 99, 31, 77, 81, 44]\n",
      "[3, 1, 8, 5, 9, 2, 10, 0, 17, 18, 4, 13, 14, 23, 25, 12, 27, 29, 32, 41, 7, 11, 15, 35, 46]\n",
      "25\n",
      "[3, 87, 70, 38, 59, 65, 61, 91, 7, 85, 8, 81, 25, 92, 1, 60, 50, 66, 82, 77, 45, 67, 74, 72, 90, 17, 99, 41, 29, 24, 96, 28, 93, 95, 4, 51, 62, 42, 48, 68, 14, 9, 15, 58, 97, 64, 75, 18, 13, 36]\n",
      "[1, 3, 8, 2, 9, 14, 6, 40, 16, 24, 26, 27, 0, 7, 12, 17, 4, 19, 22, 25, 10, 11, 20, 21, 34, 50, 69, 13, 28, 29, 36, 41, 47, 48, 30, 33, 45, 65, 68, 31, 32, 35, 37, 38, 42, 44, 46, 52, 55, 58]\n",
      "[0, 24, 20, 80, 99, 69, 89, 33, 93, 23, 1, 27, 12, 35, 32, 4, 17, 59, 21, 6, 7, 44, 8, 28, 19, 96, 31, 3, 56, 37, 14, 70, 51, 46, 92, 95, 43, 74, 87, 26, 25, 57, 30, 90, 85, 62, 45, 61, 54, 58]\n",
      "[0, 3, 8, 11, 1, 7, 33, 35, 9, 17, 4, 18, 23, 25, 40, 10, 5, 6, 12, 19, 32, 48, 14, 20, 26, 27, 30, 34, 44, 51, 52, 55, 16, 28, 39, 41, 42, 49, 65, 66, 13, 15, 22, 24, 36, 37, 38, 47, 53, 57]\n",
      "[9, 2, 3, 94, 4, 82, 85, 30, 17, 32, 21, 79, 28, 44, 43, 31, 22, 56, 65, 55, 97, 19, 68, 20, 63, 61, 8, 57, 12, 53, 99, 98, 48, 67, 80, 1, 35, 66, 49, 96, 37, 72, 14, 13, 90, 39, 46, 11, 15, 54]\n",
      "[9, 3, 2, 4, 5, 0, 8, 1, 16, 17, 7, 15, 32, 57, 14, 18, 34, 39, 44, 6, 11, 13, 21, 23, 24, 25, 33, 35, 36, 63, 75, 12, 20, 28, 31, 47, 61, 74, 10, 19, 22, 27, 29, 30, 38, 40, 42, 43, 48, 49]\n",
      "[3, 0, 78, 1, 9, 28, 36, 14, 96, 4, 24, 84, 44, 16, 8, 90, 74, 22, 88, 83, 71, 61, 64, 76, 80, 19, 43, 53, 51, 77, 62, 30, 57, 35, 75, 67, 41, 85, 38, 11, 98, 7, 94, 92, 33, 86, 70, 72, 91, 59]\n",
      "[3, 0, 1, 24, 9, 4, 11, 16, 5, 27, 33, 12, 26, 2, 8, 18, 30, 41, 25, 14, 19, 21, 22, 40, 43, 48, 58, 62, 6, 13, 17, 20, 32, 36, 37, 49, 65, 72, 82, 29, 31, 35, 38, 44, 45, 46, 53, 55, 60, 66]\n",
      "[3, 10, 1, 11, 60, 19, 9, 2, 8, 28, 33, 53, 84, 55, 95, 62, 51, 92, 61, 4, 31, 85, 25, 56, 24, 65, 89, 96, 93, 52, 64, 17, 74, 37, 66, 75, 99, 86, 16, 7, 30, 98, 58, 42, 34, 45, 23, 22, 83, 20]\n",
      "[3, 0, 10, 9, 8, 11, 1, 2, 28, 4, 27, 5, 12, 16, 18, 26, 13, 17, 19, 23, 24, 7, 29, 32, 37, 48, 21, 43, 54, 60, 15, 20, 22, 25, 31, 33, 40, 45, 53, 55, 58, 62, 68, 72, 14, 35, 36, 38, 39, 41]\n",
      "50\n"
     ]
    }
   ],
   "source": [
    "s = [1,3,5,10,25,50]\n",
    "c_greedy, c_degree, est_greedy, est_degree = compute(s)"
   ]
  },
  {
   "cell_type": "code",
   "execution_count": 6,
   "metadata": {},
   "outputs": [
    {
     "name": "stdout",
     "output_type": "stream",
     "text": [
      "[30.799999999999997, 45.400000000000006, 55.8, 68.8, 80.0, 88.4]\n",
      "[43.2, 57.6, 71.4, 71.6, 79.8, 86.8]\n",
      "[14.904, 25.972, 34.18000000000001, 46.352000000000004, 62.25, 79.606]\n",
      "[15.935999999999998, 28.21, 37.884, 47.24, 62.174, 75.348]\n"
     ]
    }
   ],
   "source": [
    "print(c_greedy, c_degree, est_greedy, est_degree, sep=\"\\n\")"
   ]
  },
  {
   "cell_type": "code",
   "execution_count": 7,
   "metadata": {},
   "outputs": [
    {
     "data": {
      "image/png": "[encoded data removed]",
      "text/plain": [
       "<Figure size 432x288 with 1 Axes>"
      ]
     },
     "metadata": {
      "needs_background": "light"
     },
     "output_type": "display_data"
    }
   ],
   "source": [
    "plt.plot(s, c_greedy, \"b.\", label=\"greedy\")\n",
    "plt.plot(s, est_greedy, \"b+\", label=\"expected cascade size greedy\")\n",
    "plt.plot(s, c_degree, \"r.\", label=\"degree centrality\")\n",
    "plt.plot(s, est_degree, \"r+\", label=\"expected cascade size degree centrality\")\n",
    "plt.grid()\n",
    "plt.legend()\n",
    "plt.show()"
   ]
  },
  {
   "cell_type": "code",
   "execution_count": null,
   "metadata": {},
   "outputs": [],
   "source": []
  }
 ],
 "metadata": {
  "kernelspec": {
   "display_name": "Python 3",
   "language": "python",
   "name": "python3"
  },
  "language_info": {
   "codemirror_mode": {
    "name": "ipython",
    "version": 3
   },
   "file_extension": ".py",
   "mimetype": "text/x-python",
   "name": "python",
   "nbconvert_exporter": "python",
   "pygments_lexer": "ipython3",
   "version": "3.8.5"
  }
 },
 "nbformat": 4,
 "nbformat_minor": 4
}