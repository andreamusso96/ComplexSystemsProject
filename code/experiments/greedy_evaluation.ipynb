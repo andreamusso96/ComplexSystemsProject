{
 "cells": [
  {
   "cell_type": "markdown",
   "metadata": {},
   "source": [
    "# Compare Greedy Algorithm to Degree Centrality\n",
    "This code goes through different numbers of starting set sizes and computes both the most degree central and the greedy approximated starting set. It then runs the simulation on both of them seperately and compares the resulting cascade sizes. Additionaly, it applies the function that the greedy algorithm uses to estimate the cascade size on both sets. Then for each size, the mean over multiple samples is plotted."
   ]
  },
  {
   "cell_type": "code",
   "execution_count": 1,
   "metadata": {},
   "outputs": [],
   "source": [
    "import matplotlib.pyplot as plt\n",
    "import numpy as np\n",
    "import networkx as nx\n",
    "from copy import deepcopy\n",
    "\n",
    "import os\n",
    "import sys\n",
    "sys.path.append(os.path.dirname(os.path.abspath('')))\n",
    "\n",
    "from model.agent import Agent\n",
    "from model.world import World\n",
    "\n",
    "from model.utils import *\n",
    "from model.news import News\n",
    "from model.agent import AgentState"
   ]
  },
  {
   "cell_type": "code",
   "execution_count": 2,
   "metadata": {},
   "outputs": [],
   "source": [
    "def cascadesize(world):\n",
    "    return sum([1 if a.is_active() else 0 for a in world.agents.values()])\n",
    "\n",
    "def measure_cascadesize(world, starting, max_iter):\n",
    "    for a in starting.keys():\n",
    "        a.states[starting[a]] = AgentState.ACTIVE\n",
    "    for iter in range(1, max_iter):\n",
    "        x = world.update(verbose=True)\n",
    "        if x == 0:\n",
    "            break\n",
    "    return cascadesize(world)"
   ]
  },
  {
   "cell_type": "code",
   "execution_count": 3,
   "metadata": {},
   "outputs": [],
   "source": [
    "def comp_starting_sets(worlds, sets, max_iter = 20):\n",
    "    ccs = []\n",
    "    for s, w in zip(sets, worlds):\n",
    "        ccs.append(measure_cascadesize(w, s, max_iter))\n",
    "    return ccs"
   ]
  },
  {
   "cell_type": "code",
   "execution_count": 4,
   "metadata": {},
   "outputs": [],
   "source": [
    "def compute(sizes, samples = 5):\n",
    "    \"\"\"\n",
    "    takes very long to run!\n",
    "    \"\"\"\n",
    "    c_greedy = [0 for _ in range(len(sizes))]\n",
    "    c_degree = [0 for _ in range(len(sizes))]\n",
    "    est_greedy = [0 for _ in range(len(sizes))]\n",
    "    est_degree = [0 for _ in range(len(sizes))]\n",
    "    i = 0\n",
    "    for k in sizes:\n",
    "        for _ in range(samples):\n",
    "            sensation_news = 0.5\n",
    "            decay_parameter_news = 0\n",
    "            n1 = News(0, sensation_news, decay_parameter_news)\n",
    "            news1 = {n1.name: n1}\n",
    "            number_agents = 200\n",
    "            names_agents = [_ for _ in range(number_agents)]\n",
    "            threshold = np.random.random(number_agents)\n",
    "            independence = np.random.random(number_agents)\n",
    "            w1 = construct_world(names_agents, threshold, independence, news1)\n",
    "            w2 = deepcopy(w1)\n",
    "            kset = approx_most_influential(w1, k, sample_size=25, verbose=False) #THIS TAKES SOME TIME !!!\n",
    "            s1 = {}\n",
    "            for agent in kset:\n",
    "                s1[agent] = 0\n",
    "            degree_centrality = []\n",
    "            for _ in range(k):\n",
    "                best = None\n",
    "                bdeg = -1\n",
    "                for a in w2.graph.nodes():\n",
    "                    if w2.agents[a] in degree_centrality:\n",
    "                        continue\n",
    "                    d = w2.graph.out_degree(a)\n",
    "                    if d > bdeg:\n",
    "                        bdeg = d\n",
    "                        best = w2.agents[a]\n",
    "                degree_centrality.append(best)\n",
    "            s2 = {}\n",
    "            for agent in degree_centrality:\n",
    "                s2[agent] = 0\n",
    "            print([a.name for a in kset])\n",
    "            print([a.name for a in degree_centrality])\n",
    "            #reapplying the estimation for the influence used in the greedy algorithm to the solutions\n",
    "            est_greedy[i] += get_expected_number_of_influenced_agents(w1, [a.name for a in kset], 100) / np.float64(samples)\n",
    "            est_degree[i] += get_expected_number_of_influenced_agents(w2, [a.name for a in degree_centrality], 100) / np.float64(samples)\n",
    "            n = 50\n",
    "            c1, c2 = comp_starting_sets([w1, w2], [s1, s2], n)\n",
    "            c_greedy[i] += c1 / samples\n",
    "            c_degree[i] += c2 / samples\n",
    "        print(k)\n",
    "        i += 1\n",
    "    return (c_greedy, c_degree, est_greedy, est_degree)"
   ]
  },
  {
   "cell_type": "code",
   "execution_count": 5,
   "metadata": {},
   "outputs": [
    {
     "name": "stdout",
     "output_type": "stream",
     "text": [
      "[115]\n",
      "[0]\n",
      "[3]\n",
      "[3]\n",
      "[15]\n",
      "[0]\n",
      "[8]\n",
      "[8]\n",
      "[0]\n",
      "[3]\n",
      "1\n",
      "[8, 23, 4]\n",
      "[8, 4, 9]\n",
      "[8, 10, 133]\n",
      "[8, 10, 0]\n",
      "[0, 1, 3]\n",
      "[1, 3, 0]\n",
      "[0, 49, 17]\n",
      "[0, 17, 3]\n",
      "[1, 3, 25]\n",
      "[1, 3, 2]\n",
      "3\n",
      "[3, 9, 46, 13, 4]\n",
      "[3, 1, 9, 4, 0]\n",
      "[1, 106, 4, 11, 173]\n",
      "[0, 1, 8, 3, 4]\n",
      "[0, 3, 127, 42, 89]\n",
      "[0, 3, 8, 6, 4]\n",
      "[173, 2, 18, 3, 142]\n",
      "[3, 1, 2, 18, 8]\n",
      "[1, 16, 4, 3, 19]\n",
      "[1, 16, 3, 4, 17]\n",
      "5\n",
      "[0, 17, 3, 72, 76, 96, 59, 4, 154, 33]\n",
      "[0, 3, 4, 5, 16, 1, 2, 10, 12, 13]\n",
      "[34, 0, 157, 40, 188, 116, 117, 49, 91, 123]\n",
      "[3, 0, 5, 25, 2, 26, 4, 16, 40, 1]\n",
      "[1, 193, 19, 17, 143, 184, 69, 146, 4, 85]\n",
      "[1, 0, 4, 2, 3, 17, 9, 32, 13, 6]\n",
      "[1, 189, 4, 70, 133, 25, 108, 99, 199, 3]\n",
      "[1, 8, 10, 4, 3, 2, 5, 25, 0, 6]\n",
      "[80, 11, 16, 8, 18, 77, 66, 5, 195, 1]\n",
      "[3, 4, 8, 11, 5, 1, 17, 18, 2, 10]\n",
      "10\n",
      "[3, 26, 156, 17, 172, 5, 158, 88, 33, 129, 126, 7, 2, 120, 178]\n",
      "[3, 1, 2, 4, 26, 0, 35, 28, 24, 9, 34, 5, 6, 15, 17]\n",
      "[2, 73, 176, 0, 86, 153, 105, 155, 66, 120, 58, 152, 75, 150, 164]\n",
      "[2, 8, 3, 11, 0, 10, 5, 6, 18, 24, 25, 12, 14, 75, 4]\n",
      "[153, 182, 3, 11, 57, 36, 103, 68, 19, 52, 8, 106, 27, 41, 145]\n",
      "[0, 3, 10, 8, 24, 1, 11, 41, 26, 12, 37, 16, 32, 18, 21]\n",
      "[3, 1, 22, 79, 95, 9, 142, 40, 50, 39, 12, 44, 136, 172, 109]\n",
      "[3, 1, 9, 8, 0, 17, 16, 4, 10, 12, 43, 6, 20, 64, 5]\n",
      "[3, 0, 76, 120, 17, 12, 30, 109, 121, 20, 23, 36, 66, 118, 105]\n",
      "[3, 0, 9, 2, 17, 8, 15, 4, 13, 18, 20, 1, 16, 10, 33]\n",
      "15\n"
     ]
    }
   ],
   "source": [
    "s = [1,3,5,10,15] #,20,30] less sizes so that it runs faster\n",
    "c_greedy, c_degree, est_greedy, est_degree = compute(s)"
   ]
  },
  {
   "cell_type": "code",
   "execution_count": 2,
   "metadata": {},
   "outputs": [],
   "source": [
    "print(c_greedy, c_degree, est_greedy, est_degree, sep=\"\\n\")"
   ]
  },
  {
   "cell_type": "code",
   "execution_count": 3,
   "metadata": {},
   "outputs": [],
   "source": [
    "plt.plot(s, c_greedy, \"b.\", label=\"greedy\")\n",
    "plt.plot(s, est_greedy, \"b+\", label=\"expected cascade size greedy\")\n",
    "plt.plot(s, c_degree, \"r.\", label=\"degree centrality\")\n",
    "plt.plot(s, est_degree, \"r+\", label=\"expected cascade size degree centrality\")\n",
    "plt.grid()\n",
    "plt.legend()\n",
    "plt.show()"
   ]
  },
  {
   "cell_type": "code",
   "execution_count": null,
   "metadata": {},
   "outputs": [],
   "source": []
  }
 ],
 "metadata": {
  "kernelspec": {
   "display_name": "Python 3",
   "language": "python",
   "name": "python3"
  },
  "language_info": {
   "codemirror_mode": {
    "name": "ipython",
    "version": 3
   },
   "file_extension": ".py",
   "mimetype": "text/x-python",
   "name": "python",
   "nbconvert_exporter": "python",
   "pygments_lexer": "ipython3",
   "version": "3.8.2"
  }
 },
 "nbformat": 4,
 "nbformat_minor": 4
}
