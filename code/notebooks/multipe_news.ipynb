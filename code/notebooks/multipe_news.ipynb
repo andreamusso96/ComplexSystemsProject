{
 "cells": [
  {
   "cell_type": "markdown",
   "metadata": {
    "collapsed": true
   },
   "source": [
    "# Multiple News Phase diagrams"
   ]
  },
  {
   "cell_type": "code",
   "execution_count": 1,
   "metadata": {},
   "outputs": [],
   "source": [
    "import numpy as np\n",
    "import pandas as pd\n",
    "import seaborn as sns\n",
    "import random"
   ]
  },
  {
   "cell_type": "code",
   "execution_count": 2,
   "metadata": {},
   "outputs": [],
   "source": [
    "import os\n",
    "import sys\n",
    "sys.path.append(os.path.join(os.path.dirname(os.path.abspath(''))))"
   ]
  },
  {
   "cell_type": "code",
   "execution_count": 3,
   "metadata": {},
   "outputs": [],
   "source": [
    "from classes.agent import AgentState\n",
    "from classes.news import News\n",
    "from classes.utils import construct_world"
   ]
  },
  {
   "cell_type": "code",
   "execution_count": 9,
   "metadata": {},
   "outputs": [],
   "source": [
    "def create_news(sensations, decay_parameters):\n",
    "    news = {}\n",
    "    for name, (s, c) in enumerate(zip(sensations, decay_parameters)):\n",
    "        news[name] = News(name, sensation=s, decay_parameter=c)\n",
    "        \n",
    "    return news\n",
    "\n",
    "def create_sensation_map(sensations_1, sensations_2, num_agents=1000, num_samples=10, initial_per_news=5):\n",
    "    agent_names = list(range(num_agents))\n",
    "    thresholds = np.random.normal(0.6, 0.1, num_agents)\n",
    "    independences = np.random.normal(0.4, 0.1, num_agents)\n",
    "    \n",
    "    df = pd.DataFrame(columns=['sensation news 1', 'sensation news 2', 'number active'])\n",
    "    \n",
    "    print(f'Starting simulation with {num_agents} agents (this may take some time...)')  \n",
    "    for s_1 in sensations_1:\n",
    "        for s_2 in sensations_2:\n",
    "            samples = []\n",
    "            for _ in range(num_samples):\n",
    "                news = create_news([s_1, s_2], [0.0, 0.0])\n",
    "                world = construct_world(agent_names, thresholds, independences, news)\n",
    "\n",
    "                initial_agent_names = np.random.choice(agent_names, len(news.keys()) * initial_per_news)\n",
    "                for news_idx, name_news in enumerate(news.keys()):\n",
    "                    for i in range(initial_per_news):\n",
    "                        world.agents[initial_agent_names[news_idx*initial_per_news + i]].states[name_news] = AgentState.ACTIVE\n",
    "\n",
    "                print(len([agent for agent in world.agents.values() if anget.is_active()]))\n",
    "                \n",
    "                number_active, _, _ = world.full_dynamics()\n",
    "                samples.append((number_active[0] - number_active[1]))\n",
    "            \n",
    "            df_active = pd.DataFrame([[s_1, s_2, np.mean(samples) / num_agents]], columns=df.columns)\n",
    "            df = df.append(df_active, ignore_index=True)\n",
    "            \n",
    "    print('Simulation completed!!!')\n",
    "    return df.astype(float).pivot('sensation news 2', 'sensation news 1', 'number active')"
   ]
  },
  {
   "cell_type": "code",
   "execution_count": 10,
   "metadata": {},
   "outputs": [
    {
     "name": "stdout",
     "output_type": "stream",
     "text": [
      "Starting simulation with 1000 agents (this may take some time...)\n",
      "Simulation completed!!!\n"
     ]
    }
   ],
   "source": [
    "sensation_1 = np.linspace(0.0, 1.0, 11)\n",
    "sensation_2 = np.linspace(0.0, 1.0, 11)\n",
    "\n",
    "sensation_map = create_sensation_map(sensation_1, sensation_2)"
   ]
  },
  {
   "cell_type": "code",
   "execution_count": 11,
   "metadata": {},
   "outputs": [
    {
     "data": {
      "image/png": "[encoded data removed]",
      "text/plain": [
       "<Figure size 432x288 with 2 Axes>"
      ]
     },
     "metadata": {
      "needs_background": "light"
     },
     "output_type": "display_data"
    }
   ],
   "source": [
    "ax = sns.heatmap(sensation_map, cmap='YlGnBu', vmin=-1.0, vmax=1.0)\n",
    "ax.invert_yaxis()"
   ]
  },
  {
   "cell_type": "code",
   "execution_count": null,
   "metadata": {},
   "outputs": [],
   "source": []
  }
 ],
 "metadata": {
  "kernelspec": {
   "display_name": "Python 3",
   "language": "python",
   "name": "python3"
  },
  "language_info": {
   "codemirror_mode": {
    "name": "ipython",
    "version": 3
   },
   "file_extension": ".py",
   "mimetype": "text/x-python",
   "name": "python",
   "nbconvert_exporter": "python",
   "pygments_lexer": "ipython3",
   "version": "3.8.5"
  }
 },
 "nbformat": 4,
 "nbformat_minor": 1
}