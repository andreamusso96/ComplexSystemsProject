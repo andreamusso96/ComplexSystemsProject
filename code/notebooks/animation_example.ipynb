{
 "cells": [
  {
   "cell_type": "markdown",
   "metadata": {},
   "source": [
    "# Animation example"
   ]
  },
  {
   "cell_type": "code",
   "execution_count": 1,
   "metadata": {},
   "outputs": [],
   "source": [
    "import os\n",
    "import sys\n",
    "sys.path.append(os.path.join(os.path.dirname(os.path.abspath(''))))"
   ]
  },
  {
   "cell_type": "code",
   "execution_count": 2,
   "metadata": {},
   "outputs": [],
   "source": [
    "%load_ext autoreload\n",
    "%autoreload 2\n",
    "\n",
    "from classes.simulation import Simulation\n",
    "from classes.news import News"
   ]
  },
  {
   "cell_type": "code",
   "execution_count": 3,
   "metadata": {},
   "outputs": [],
   "source": [
    "# News for simulation\n",
    "\n",
    "sensation_news_1 = 0\n",
    "sensation_news_2 = 0\n",
    "decay_parameter_news_1 = 0\n",
    "decay_parameter_news_2 = 0\n",
    "n1 = News(1, sensation_news_1, decay_parameter_news_1)\n",
    "n2 = News(2, sensation_news_2, decay_parameter_news_2)\n",
    "news = {n1.name: n1, n2.name: n2}"
   ]
  },
  {
   "cell_type": "code",
   "execution_count": 4,
   "metadata": {},
   "outputs": [],
   "source": [
    "# Parameters of simulation\n",
    "\n",
    "number_agents = 50\n",
    "threshold = 0.4\n",
    "independence = 0.1\n",
    "initial_active_agents = dict.fromkeys(list(range(5)),1)\n",
    "simulation_time = 20"
   ]
  },
  {
   "cell_type": "code",
   "execution_count": 5,
   "metadata": {},
   "outputs": [],
   "source": [
    "# Creates instance of simulation class\n",
    "\n",
    "simulation = Simulation(number_agents, threshold, independence, news, simulation_time, initial_active_agents)"
   ]
  },
  {
   "cell_type": "code",
   "execution_count": 6,
   "metadata": {},
   "outputs": [
    {
     "name": "stdout",
     "output_type": "stream",
     "text": [
      "Time: 1\n",
      "Time: 2\n",
      "Time: 3\n",
      "Time: 4\n",
      "Time: 5\n",
      "Time: 6\n",
      "Time: 7\n",
      "Time: 8\n",
      "Time: 9\n",
      "Time: 10\n",
      "Time: 11\n",
      "Time: 12\n",
      "Time: 13\n",
      "Time: 14\n",
      "Time: 15\n",
      "Time: 16\n",
      "Time: 17\n",
      "Time: 18\n",
      "Time: 19\n",
      "Time: 20\n"
     ]
    }
   ],
   "source": [
    "# Runs the simulation\n",
    "\n",
    "simulation.run_simulation()"
   ]
  },
  {
   "cell_type": "code",
   "execution_count": 7,
   "metadata": {},
   "outputs": [],
   "source": [
    "from classes.visualization import Visualization"
   ]
  },
  {
   "cell_type": "markdown",
   "metadata": {
    "pycharm": {
     "name": "#%% md\n"
    }
   },
   "source": [
    "If you have problems with the animation below you may have to set the ffmpeg path. Uncomment the lines in the following code cell and replace `FFMPEG_PATH` with the ffmpeg path on your system."
   ]
  },
  {
   "cell_type": "code",
   "execution_count": 8,
   "metadata": {},
   "outputs": [],
   "source": [
    "# import matplotlib.pyplot as plt\n",
    "# plt.rcParams['animation.ffmpeg_path'] = 'FFMPEG_PATH'"
   ]
  },
  {
   "cell_type": "code",
   "execution_count": 9,
   "metadata": {
    "pycharm": {
     "name": "#%%\n"
    }
   },
   "outputs": [
    {
     "data": {
      "image/png": "[encoded data removed]",
      "text/plain": [
       "<Figure size 864x864 with 1 Axes>"
      ]
     },
     "metadata": {
      "needs_background": "light"
     },
     "output_type": "display_data"
    }
   ],
   "source": [
    "vis = Visualization(simulation)"
   ]
  },
  {
   "cell_type": "code",
   "execution_count": 10,
   "metadata": {
    "pycharm": {
     "name": "#%%\n"
    }
   },
   "outputs": [
    {
     "name": "stdout",
     "output_type": "stream",
     "text": [
      "19\r"
     ]
    }
   ],
   "source": [
    "vis.animate(frames = simulation_time)"
   ]
  },
  {
   "cell_type": "code",
   "execution_count": null,
   "metadata": {},
   "outputs": [],
   "source": []
  }
 ],
 "metadata": {
  "kernelspec": {
   "display_name": "Python 3",
   "language": "python",
   "name": "python3"
  },
  "language_info": {
   "codemirror_mode": {
    "name": "ipython",
    "version": 3
   },
   "file_extension": ".py",
   "mimetype": "text/x-python",
   "name": "python",
   "nbconvert_exporter": "python",
   "pygments_lexer": "ipython3",
   "version": "3.8.5"
  }
 },
 "nbformat": 4,
 "nbformat_minor": 4
}
