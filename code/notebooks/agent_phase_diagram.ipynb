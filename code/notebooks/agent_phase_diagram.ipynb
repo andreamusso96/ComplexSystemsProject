{
 "cells": [
  {
   "cell_type": "markdown",
   "metadata": {},
   "source": [
    "# Agent phase diagram\n",
    "\n",
    "In a network the agent represents an node which can share the news based on porperties of the news and on the neighbouring agents. An agent is characerized by two atributes:\n",
    "* `truth_weight`: This value indicates how important it is for an agent that the news has a high truth likelihood. This value will be considered in the calculation of the agent's exictement score for the news.\n",
    "* `share_threshold`: If the excitement score is bigger than the share threshold the agent shares the news.\n",
    "\n",
    "Below we want to invesigate the spreading of the news in a network depending on the share threshold and the truth weight of the agents and the fitness of the news.  \n",
    "\n",
    "For the simulations all agents are modelled equally, i.e. same share threshold and the same truth weight."
   ]
  },
  {
   "cell_type": "markdown",
   "metadata": {},
   "source": [
    "## Simulations"
   ]
  },
  {
   "cell_type": "code",
   "execution_count": 1,
   "metadata": {
    "pycharm": {
     "name": "#%%\n"
    }
   },
   "outputs": [],
   "source": [
    "import matplotlib.pyplot as plt\n",
    "import numpy as np\n",
    "import pandas as pd\n",
    "import seaborn as sns"
   ]
  },
  {
   "cell_type": "markdown",
   "metadata": {},
   "source": [
    "Add parent directory to path (directory which holds the code)"
   ]
  },
  {
   "cell_type": "code",
   "execution_count": 2,
   "metadata": {
    "pycharm": {
     "name": "#%%\n"
    }
   },
   "outputs": [],
   "source": [
    "import os\n",
    "import sys\n",
    "sys.path.append(os.path.dirname(os.path.abspath('')))"
   ]
  },
  {
   "cell_type": "markdown",
   "metadata": {},
   "source": [
    "Import `World` and `Agent` class"
   ]
  },
  {
   "cell_type": "code",
   "execution_count": 3,
   "metadata": {
    "pycharm": {
     "name": "#%%\n"
    }
   },
   "outputs": [],
   "source": [
    "from classes.world import World\n",
    "from classes.agent import Agent"
   ]
  },
  {
   "cell_type": "markdown",
   "metadata": {},
   "source": [
    "Define function which generates a matrix with percentages of how many agents shared the news for different values of `share_threshold` and `truth_weight`."
   ]
  },
  {
   "cell_type": "code",
   "execution_count": 4,
   "metadata": {},
   "outputs": [],
   "source": [
    "def generate_share_map(num_bins=51, num_agents=100, num_updates=10, news_fitness=1.0, graph_samples=10):\n",
    "    share_thresholds = np.linspace(0, 1, num_bins)\n",
    "    truth_weights = np.linspace(0, 1, num_bins)\n",
    "    \n",
    "    df = pd.DataFrame(columns=['share threshold', 'truth weight', 'number shared'])\n",
    "    \n",
    "    print(f'Starting simulation with {num_agents} agents (this may take some time...)')\n",
    "    \n",
    "    for share_threshold in share_thresholds:\n",
    "        for truth_weight in truth_weights:\n",
    "            number_samples = []\n",
    "            for _ in range(graph_samples):            \n",
    "                agents = [Agent(str(i), share_threshold, truth_weight) for i in range(num_agents)]\n",
    "\n",
    "                world = World(num_agents=num_agents, agents=agents, news_fitness=news_fitness)\n",
    "                world.update(time_steps=num_updates)\n",
    "\n",
    "                number_samples.append(world.get_number_active_agents())\n",
    "                \n",
    "            num_sharing = pd.DataFrame([[share_threshold, truth_weight, np.mean(number_samples)]], columns=df.columns)\n",
    "            df = df.append(num_sharing, ignore_index=True)\n",
    "            \n",
    "    print('Simulation completed!!!')\n",
    "            \n",
    "    return df.astype(float).pivot('share threshold', 'truth weight', 'number shared') / num_agents"
   ]
  },
  {
   "cell_type": "markdown",
   "metadata": {},
   "source": [
    "### Low fitness news"
   ]
  },
  {
   "cell_type": "code",
   "execution_count": null,
   "metadata": {
    "pycharm": {
     "name": "#%%\n"
    },
    "scrolled": true
   },
   "outputs": [
    {
     "name": "stdout",
     "output_type": "stream",
     "text": [
      "Starting simulation with 100 agents (this may take some time...)\n"
     ]
    }
   ],
   "source": [
    "share_map = generate_share_map(news_fitness=0.05)"
   ]
  },
  {
   "cell_type": "code",
   "execution_count": null,
   "metadata": {},
   "outputs": [],
   "source": [
    "sns.heatmap(share_map, cmap='YlGnBu', vmin=0.0, vmax=1.0)"
   ]
  },
  {
   "cell_type": "markdown",
   "metadata": {},
   "source": [
    "### Intermediate fitness news"
   ]
  },
  {
   "cell_type": "code",
   "execution_count": null,
   "metadata": {},
   "outputs": [],
   "source": [
    "share_map = generate_share_map(news_fitness=0.5)"
   ]
  },
  {
   "cell_type": "code",
   "execution_count": null,
   "metadata": {},
   "outputs": [],
   "source": [
    "sns.heatmap(share_map, cmap='YlGnBu', vmin=0.0, vmax=1.0)"
   ]
  },
  {
   "cell_type": "markdown",
   "metadata": {},
   "source": [
    "### High fitness news"
   ]
  },
  {
   "cell_type": "code",
   "execution_count": null,
   "metadata": {},
   "outputs": [],
   "source": [
    "share_map = generate_share_map(news_fitness=0.95)"
   ]
  },
  {
   "cell_type": "code",
   "execution_count": null,
   "metadata": {},
   "outputs": [],
   "source": [
    "sns.heatmap(share_map, cmap='YlGnBu', vmin=0.0, vmax=1.0)"
   ]
  },
  {
   "cell_type": "code",
   "execution_count": null,
   "metadata": {},
   "outputs": [],
   "source": []
  }
 ],
 "metadata": {
  "kernelspec": {
   "display_name": "Python 3",
   "language": "python",
   "name": "python3"
  },
  "language_info": {
   "codemirror_mode": {
    "name": "ipython",
    "version": 3
   },
   "file_extension": ".py",
   "mimetype": "text/x-python",
   "name": "python",
   "nbconvert_exporter": "python",
   "pygments_lexer": "ipython3",
   "version": "3.8.5"
  }
 },
 "nbformat": 4,
 "nbformat_minor": 1
}
