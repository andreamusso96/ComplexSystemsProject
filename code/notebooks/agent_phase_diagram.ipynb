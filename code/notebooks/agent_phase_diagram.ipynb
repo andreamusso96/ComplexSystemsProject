{
 "cells": [
  {
   "cell_type": "markdown",
   "metadata": {},
   "source": [
    "# Cascade size phase diagrams\n",
    "\n",
    "Below we investigate the spreading of the news in a network depending on different model parameters. "
   ]
  },
  {
   "cell_type": "code",
   "execution_count": 1,
   "metadata": {
    "pycharm": {
     "name": "#%%\n"
    }
   },
   "outputs": [],
   "source": [
    "import matplotlib.pyplot as plt\n",
    "import numpy as np\n",
    "import pandas as pd\n",
    "import seaborn as sns\n",
    "import random"
   ]
  },
  {
   "cell_type": "markdown",
   "metadata": {},
   "source": [
    "Add directory which holds the python classes"
   ]
  },
  {
   "cell_type": "code",
   "execution_count": 2,
   "metadata": {
    "pycharm": {
     "name": "#%%\n"
    }
   },
   "outputs": [],
   "source": [
    "import os\n",
    "import sys\n",
    "sys.path.append(os.path.join(os.path.dirname(os.path.abspath('')), 'classes'))"
   ]
  },
  {
   "cell_type": "code",
   "execution_count": 3,
   "metadata": {
    "pycharm": {
     "name": "#%%\n"
    }
   },
   "outputs": [],
   "source": [
    "from agent import AgentState\n",
    "from news import News\n",
    "from utils import create_graph, construct_world_constant_parameters"
   ]
  },
  {
   "cell_type": "markdown",
   "metadata": {},
   "source": [
    "## Threshold vs Sensation"
   ]
  },
  {
   "cell_type": "code",
   "execution_count": 4,
   "metadata": {},
   "outputs": [],
   "source": [
    "def generate_share_map(thresholds, sensations, num_agents=100, graph_samples=10, independence=0.5):\n",
    "    df = pd.DataFrame(columns=['threshold', 'sensation', 'number active'])\n",
    "    \n",
    "    print(f'Starting simulation with {num_agents} agents (this may take some time...)')    \n",
    "    for threshold in thresholds:\n",
    "        for sensation in sensations:\n",
    "            number_samples = []\n",
    "            for g_nmb in range(graph_samples):\n",
    "                news_name = 1\n",
    "                news = {news_name: News(news_name, sensation, decay_parameter=0.0)}\n",
    "                world = construct_world_constant_parameters(num_agents, threshold, independence, news)\n",
    "                \n",
    "                # Activate random agent\n",
    "                agent = random.choice(list(world.agents.values()))\n",
    "                agent.states[news_name] = AgentState.ACTIVE\n",
    "                \n",
    "                number_active, _, _ = world.full_dynamics()\n",
    "\n",
    "                number_samples.append(number_active / num_agents)\n",
    "                \n",
    "            df_active = pd.DataFrame([[threshold, sensation, np.mean(number_samples)]], columns=df.columns)\n",
    "            df = df.append(df_active, ignore_index=True)\n",
    "            \n",
    "    print('Simulation completed!!!')\n",
    "            \n",
    "    return df.astype(float).pivot('sensation', 'threshold', 'number active')"
   ]
  },
  {
   "cell_type": "code",
   "execution_count": 5,
   "metadata": {},
   "outputs": [
    {
     "name": "stdout",
     "output_type": "stream",
     "text": [
      "Starting simulation with 100 agents (this may take some time...)\n",
      "Simulation completed!!!\n"
     ]
    }
   ],
   "source": [
    "thresholds = np.linspace(0.0, 1.0, 21)\n",
    "fitness = np.linspace(0.0, 1.0, 21)\n",
    "\n",
    "share_map = generate_share_map(thresholds, fitness)"
   ]
  },
  {
   "cell_type": "code",
   "execution_count": 6,
   "metadata": {},
   "outputs": [
    {
     "data": {
      "image/png": "[encoded data removed]",
      "text/plain": [
       "<Figure size 432x288 with 2 Axes>"
      ]
     },
     "metadata": {
      "needs_background": "light"
     },
     "output_type": "display_data"
    }
   ],
   "source": [
    "ax = sns.heatmap(share_map, cmap='YlGnBu', vmin=0.0, vmax=1.0)\n",
    "ax.invert_yaxis()"
   ]
  },
  {
   "cell_type": "markdown",
   "metadata": {},
   "source": [
    "## Independence vs Sensation"
   ]
  },
  {
   "cell_type": "code",
   "execution_count": 7,
   "metadata": {},
   "outputs": [],
   "source": [
    "def generate_share_map(independences, sensations, num_agents=100, graph_samples=10, threshold=0.5):\n",
    "    df = pd.DataFrame(columns=['independence', 'sensation', 'number active'])\n",
    "    \n",
    "    print(f'Starting simulation with {num_agents} agents (this may take some time...)')    \n",
    "    for independence in independences:\n",
    "        for sensation in sensations:\n",
    "            number_samples = []\n",
    "            for g_nmb in range(graph_samples):\n",
    "                news_name = 1\n",
    "                news = {news_name: News(news_name, sensation, decay_parameter=0.0)}\n",
    "                world = construct_world_constant_parameters(num_agents, threshold, independence, news)\n",
    "                \n",
    "                # Activate random agent\n",
    "                agent = random.choice(list(world.agents.values()))\n",
    "                agent.states[news_name] = AgentState.ACTIVE\n",
    "                \n",
    "                number_active, _, _ = world.full_dynamics()\n",
    "\n",
    "                number_samples.append(number_active / num_agents)\n",
    "                \n",
    "            df_active = pd.DataFrame([[independence, sensation, np.mean(number_samples)]], columns=df.columns)\n",
    "            df = df.append(df_active, ignore_index=True)\n",
    "            \n",
    "    print('Simulation completed!!!')\n",
    "            \n",
    "    return df.astype(float).pivot('sensation', 'independence', 'number active')"
   ]
  },
  {
   "cell_type": "code",
   "execution_count": 8,
   "metadata": {},
   "outputs": [
    {
     "name": "stdout",
     "output_type": "stream",
     "text": [
      "Starting simulation with 100 agents (this may take some time...)\n",
      "Simulation completed!!!\n"
     ]
    }
   ],
   "source": [
    "opinions = np.linspace(0.0, 1.0, 21)\n",
    "fitness = np.linspace(0.0, 1.0, 21)\n",
    "\n",
    "share_map = generate_share_map(opinions, fitness)"
   ]
  },
  {
   "cell_type": "code",
   "execution_count": 9,
   "metadata": {},
   "outputs": [
    {
     "data": {
      "image/png": "[encoded data removed]",
      "text/plain": [
       "<Figure size 432x288 with 2 Axes>"
      ]
     },
     "metadata": {
      "needs_background": "light"
     },
     "output_type": "display_data"
    }
   ],
   "source": [
    "ax = sns.heatmap(share_map, cmap='YlGnBu', vmin=0.0, vmax=1.0)\n",
    "ax.invert_yaxis()"
   ]
  },
  {
   "cell_type": "markdown",
   "metadata": {},
   "source": [
    "## Decay parameter vs Sensation"
   ]
  },
  {
   "cell_type": "code",
   "execution_count": 10,
   "metadata": {},
   "outputs": [],
   "source": [
    "def generate_share_map(decay_parameters, sensations, num_agents=100, graph_samples=10, threshold=0.5, independence=0.5):\n",
    "    df = pd.DataFrame(columns=['decay parameter', 'sensation', 'number active'])\n",
    "    \n",
    "    print(f'Starting simulation with {num_agents} agents (this may take some time...)')    \n",
    "    for decay_parameter in decay_parameters:\n",
    "        for sensation in sensations:\n",
    "            number_samples = []\n",
    "            for g_nmb in range(graph_samples):\n",
    "                news_name = 1\n",
    "                news = {news_name: News(news_name, sensation, decay_parameter)}\n",
    "                world = construct_world_constant_parameters(num_agents, threshold, independence, news)\n",
    "                \n",
    "                # Activate random agent\n",
    "                agent = random.choice(list(world.agents.values()))\n",
    "                agent.states[news_name] = AgentState.ACTIVE\n",
    "                \n",
    "                number_active, _, _ = world.full_dynamics()\n",
    "\n",
    "                number_samples.append(number_active / num_agents)\n",
    "                \n",
    "            df_active = pd.DataFrame([[decay_parameter, sensation, np.mean(number_samples)]], columns=df.columns)\n",
    "            df = df.append(df_active, ignore_index=True)\n",
    "            \n",
    "    print('Simulation completed!!!')\n",
    "            \n",
    "    return df.astype(float).pivot('sensation', 'decay parameter', 'number active')"
   ]
  },
  {
   "cell_type": "code",
   "execution_count": 17,
   "metadata": {
    "pycharm": {
     "name": "#%%\n"
    }
   },
   "outputs": [
    {
     "name": "stdout",
     "output_type": "stream",
     "text": [
      "Starting simulation with 100 agents (this may take some time...)\n",
      "Simulation completed!!!\n"
     ]
    }
   ],
   "source": [
    "decay_parameters = np.logspace(-5, 5, 11)\n",
    "fitness = np.linspace(0.0, 1.0, 21)\n",
    "\n",
    "share_map = generate_share_map(decay_parameters, fitness)"
   ]
  },
  {
   "cell_type": "code",
   "execution_count": 18,
   "metadata": {
    "pycharm": {
     "name": "#%%\n"
    }
   },
   "outputs": [
    {
     "data": {
      "image/png": "[encoded data removed]",
      "text/plain": [
       "<Figure size 432x288 with 2 Axes>"
      ]
     },
     "metadata": {
      "needs_background": "light"
     },
     "output_type": "display_data"
    }
   ],
   "source": [
    "ax = sns.heatmap(share_map, cmap='YlGnBu', vmin=0.0, vmax=1.0)\n",
    "ax.invert_yaxis()"
   ]
  },
  {
   "cell_type": "code",
   "execution_count": null,
   "metadata": {},
   "outputs": [],
   "source": []
  }
 ],
 "metadata": {
  "kernelspec": {
   "display_name": "Python 3",
   "language": "python",
   "name": "python3"
  },
  "language_info": {
   "codemirror_mode": {
    "name": "ipython",
    "version": 3
   },
   "file_extension": ".py",
   "mimetype": "text/x-python",
   "name": "python",
   "nbconvert_exporter": "python",
   "pygments_lexer": "ipython3",
   "version": "3.8.5"
  }
 },
 "nbformat": 4,
 "nbformat_minor": 1
}
