{
 "cells": [
  {
   "cell_type": "markdown",
   "metadata": {},
   "source": [
    "# Agent parameters / News fitness\n",
    "\n",
    "Based on attributes of the agent, the news and the used network the dynamics of the system will be different. \n",
    "The parameters we will consider, are:\n",
    "* threshold $\\phi_{\\nu}$: The threshold above which an agent $\\nu$ will distribute the news\n",
    "* independent thought $\\alpha_{\\nu}$: The amount of an agent's self-influence\n",
    "* opinion $\\beta_{\\nu}$: the agent's opinion on the truthfulness of the news\n",
    "* fitness $\\rho$: the attractiveness of the news\n",
    "* decay parameter $c$: the decay rate of the excitement score function $E_{\\nu}$.\n",
    "\n",
    "Below we investigate the spreading of the news in a network depending on the mentioned parameters above. "
   ]
  },
  {
   "cell_type": "markdown",
   "metadata": {},
   "source": [
    "## Simulations"
   ]
  },
  {
   "cell_type": "code",
   "execution_count": 1,
   "metadata": {
    "pycharm": {
     "name": "#%%\n"
    }
   },
   "outputs": [],
   "source": [
    "import matplotlib.pyplot as plt\n",
    "import numpy as np\n",
    "import pandas as pd\n",
    "import seaborn as sns"
   ]
  },
  {
   "cell_type": "markdown",
   "metadata": {},
   "source": [
    "Add parent directory to path (directory which holds the code)"
   ]
  },
  {
   "cell_type": "code",
   "execution_count": 2,
   "metadata": {
    "pycharm": {
     "name": "#%%\n"
    }
   },
   "outputs": [],
   "source": [
    "import os\n",
    "import sys\n",
    "sys.path.append(os.path.dirname(os.path.abspath('')))"
   ]
  },
  {
   "cell_type": "markdown",
   "metadata": {},
   "source": [
    "Import `World` and `Agent` class"
   ]
  },
  {
   "cell_type": "code",
   "execution_count": 3,
   "metadata": {
    "pycharm": {
     "name": "#%%\n"
    }
   },
   "outputs": [],
   "source": [
    "from classes.world import World\n",
    "from classes.agent import Agent"
   ]
  },
  {
   "cell_type": "markdown",
   "metadata": {},
   "source": [
    "## Threshold $\\phi_{\\nu}$ vs Attractiveness $\\rho$"
   ]
  },
  {
   "cell_type": "code",
   "execution_count": 4,
   "metadata": {},
   "outputs": [],
   "source": [
    "def generate_share_map(thresholds, fitness, num_agents=100, graph_samples=10, opinion=0.5):\n",
    "    df = pd.DataFrame(columns=['threshold', 'fitness', 'number active'])\n",
    "    \n",
    "    print(f'Starting simulation with {num_agents} agents (this may take some time...)')    \n",
    "    for threshold in thresholds:\n",
    "        for f in fitness:\n",
    "            number_samples = []\n",
    "            for g_nmb in range(graph_samples):\n",
    "                agents = [Agent(str(i), threshold, opinion) for i in range(num_agents)]\n",
    "                \n",
    "                world = World(num_agents=num_agents, agents=agents, news_fitness=f)\n",
    "                world.update(time_steps=20)\n",
    "\n",
    "                number_samples.append(world.get_number_active_agents() / num_agents)\n",
    "                \n",
    "            num_sharing = pd.DataFrame([[threshold, f, np.mean(number_samples)]], columns=df.columns)\n",
    "            df = df.append(num_sharing, ignore_index=True)\n",
    "            \n",
    "    print('Simulation completed!!!')\n",
    "            \n",
    "    return df.astype(float).pivot('fitness', 'threshold', 'number active')"
   ]
  },
  {
   "cell_type": "code",
   "execution_count": 5,
   "metadata": {},
   "outputs": [
    {
     "name": "stdout",
     "output_type": "stream",
     "text": [
      "Starting simulation with 100 agents (this may take some time...)\n",
      "Simulation completed!!!\n"
     ]
    }
   ],
   "source": [
    "thresholds = np.linspace(0.0, 1.0, 21)\n",
    "fitness = np.linspace(0.0, 1.0, 21)\n",
    "\n",
    "share_map = generate_share_map(thresholds, fitness)"
   ]
  },
  {
   "cell_type": "code",
   "execution_count": 6,
   "metadata": {},
   "outputs": [
    {
     "data": {
      "image/png": "[encoded data removed]",
      "text/plain": [
       "<Figure size 432x288 with 2 Axes>"
      ]
     },
     "metadata": {
      "needs_background": "light"
     },
     "output_type": "display_data"
    }
   ],
   "source": [
    "ax = sns.heatmap(share_map, cmap='YlGnBu', vmin=0.0, vmax=1.0)\n",
    "ax.invert_yaxis()"
   ]
  },
  {
   "cell_type": "markdown",
   "metadata": {},
   "source": [
    "## Opinion $\\beta_{\\nu}$ vs Attractiveness $\\rho$"
   ]
  },
  {
   "cell_type": "code",
   "execution_count": 7,
   "metadata": {},
   "outputs": [],
   "source": [
    "def generate_share_map(opinions, fitness, num_agents=100, graph_samples=10, threshold=0.5):\n",
    "    df = pd.DataFrame(columns=['opinion', 'fitness', 'number active'])\n",
    "    \n",
    "    print(f'Starting simulation with {num_agents} agents (this may take some time...)')    \n",
    "    for opinion in opinions:\n",
    "        for f in fitness:\n",
    "            number_samples = []\n",
    "            for g_nmb in range(graph_samples):\n",
    "                agents = [Agent(str(i), threshold, opinion) for i in range(num_agents)]\n",
    "                \n",
    "                world = World(num_agents=num_agents, agents=agents, news_fitness=f)\n",
    "                world.update(time_steps=20)\n",
    "\n",
    "                number_samples.append(world.get_number_active_agents() / num_agents)\n",
    "                \n",
    "            num_sharing = pd.DataFrame([[opinion, f, np.mean(number_samples)]], columns=df.columns)\n",
    "            df = df.append(num_sharing, ignore_index=True)\n",
    "            \n",
    "    print('Simulation completed!!!')\n",
    "            \n",
    "    return df.astype(float).pivot('fitness', 'opinion', 'number active')"
   ]
  },
  {
   "cell_type": "code",
   "execution_count": 8,
   "metadata": {},
   "outputs": [
    {
     "name": "stdout",
     "output_type": "stream",
     "text": [
      "Starting simulation with 100 agents (this may take some time...)\n",
      "Simulation completed!!!\n"
     ]
    }
   ],
   "source": [
    "opinions = np.linspace(0.0, 1.0, 21)\n",
    "fitness = np.linspace(0.0, 1.0, 21)\n",
    "\n",
    "share_map = generate_share_map(opinions, fitness)"
   ]
  },
  {
   "cell_type": "code",
   "execution_count": 9,
   "metadata": {},
   "outputs": [
    {
     "data": {
      "image/png": "[encoded data removed]",
      "text/plain": [
       "<Figure size 432x288 with 2 Axes>"
      ]
     },
     "metadata": {
      "needs_background": "light"
     },
     "output_type": "display_data"
    }
   ],
   "source": [
    "ax = sns.heatmap(share_map, cmap='YlGnBu', vmin=0.0, vmax=1.0)\n",
    "ax.invert_yaxis()"
   ]
  },
  {
   "cell_type": "markdown",
   "metadata": {},
   "source": [
    "## Self influence $\\alpha_{\\nu}$ vs Attractiveness $\\rho$"
   ]
  },
  {
   "cell_type": "code",
   "execution_count": null,
   "metadata": {},
   "outputs": [],
   "source": [
    "def generate_share_map(self_influences, fitness, num_agents=100, graph_samples=10, threshold=0.5, opinion=0.5):\n",
    "    df = pd.DataFrame(columns=['self influence', 'fitness', 'number active'])\n",
    "    \n",
    "    print(f'Starting simulation with {num_agents} agents (this may take some time...)')    \n",
    "    for self_influence in self_influences:\n",
    "        for f in fitness:\n",
    "            number_samples = []\n",
    "            for g_nmb in range(graph_samples):\n",
    "                agents = [Agent(str(i), threshold, opinion) for i in range(num_agents)]\n",
    "                \n",
    "                world = World(num_agents=num_agents, agents=agents, news_fitness=f)\n",
    "                world.update(time_steps=20)\n",
    "\n",
    "                number_samples.append(world.get_number_active_agents() / num_agents)\n",
    "                \n",
    "            num_sharing = pd.DataFrame([[self_influence, f, np.mean(number_samples)]], columns=df.columns)\n",
    "            df = df.append(num_sharing, ignore_index=True)\n",
    "            \n",
    "    print('Simulation completed!!!')\n",
    "            \n",
    "    return df.astype(float).pivot('fitness', 'self influence', 'number active')"
   ]
  },
  {
   "cell_type": "code",
   "execution_count": null,
   "metadata": {},
   "outputs": [],
   "source": [
    "self_influences = np.linspace(0.0, 1.0, 21)\n",
    "fitness = np.linspace(0.0, 1.0, 21)\n",
    "\n",
    "share_map = generate_share_map(self_influences, fitness)"
   ]
  },
  {
   "cell_type": "code",
   "execution_count": null,
   "metadata": {},
   "outputs": [],
   "source": [
    "ax = sns.heatmap(share_map, cmap='YlGnBu', vmin=0.0, vmax=1.0)\n",
    "ax.invert_yaxis()"
   ]
  },
  {
   "cell_type": "markdown",
   "metadata": {},
   "source": [
    "## Decay parameter $c$ vs Attractiveness $\\rho$"
   ]
  },
  {
   "cell_type": "code",
   "execution_count": null,
   "metadata": {},
   "outputs": [],
   "source": [
    "def generate_share_map(decay_parameters, fitness, num_agents=100, graph_samples=10, threshold=0.5, opinion=0.5):\n",
    "    df = pd.DataFrame(columns=['decay_parameter', 'fitness', 'number active'])\n",
    "    \n",
    "    print(f'Starting simulation with {num_agents} agents (this may take some time...)')    \n",
    "    for c in decay_parameters:\n",
    "        for f in fitness:\n",
    "            number_samples = []\n",
    "            for g_nmb in range(graph_samples):\n",
    "                agents = [Agent(str(i), threshold, opinion) for i in range(num_agents)]\n",
    "                \n",
    "                world = World(num_agents=num_agents, agents=agents, news_fitness=f)\n",
    "                world.update(time_steps=20)\n",
    "\n",
    "                number_samples.append(world.get_number_active_agents() / num_agents)\n",
    "                \n",
    "            num_sharing = pd.DataFrame([[c, f, np.mean(number_samples)]], columns=df.columns)\n",
    "            df = df.append(num_sharing, ignore_index=True)\n",
    "            \n",
    "    print('Simulation completed!!!')\n",
    "            \n",
    "    return df.astype(float).pivot('fitness', 'decay_parameter', 'number active')"
   ]
  },
  {
   "cell_type": "code",
   "execution_count": null,
   "outputs": [],
   "source": [
    "decay_parameters = np.linspace(0.0, 1.0, 21)\n",
    "fitness = np.linspace(0.0, 1.0, 21)\n",
    "\n",
    "share_map = generate_share_map(decay_parameters, fitness)"
   ],
   "metadata": {
    "collapsed": false,
    "pycharm": {
     "name": "#%%\n"
    }
   }
  },
  {
   "cell_type": "code",
   "execution_count": null,
   "outputs": [],
   "source": [
    "ax = sns.heatmap(share_map, cmap='YlGnBu', vmin=0.0, vmax=1.0)\n",
    "ax.invert_yaxis()"
   ],
   "metadata": {
    "collapsed": false,
    "pycharm": {
     "name": "#%%\n"
    }
   }
  },
  {
   "cell_type": "code",
   "execution_count": null,
   "outputs": [],
   "source": [],
   "metadata": {
    "collapsed": false,
    "pycharm": {
     "name": "#%%\n"
    }
   }
  },
  {
   "cell_type": "code",
   "execution_count": null,
   "metadata": {},
   "outputs": [],
   "source": []
  },
  {
   "cell_type": "code",
   "execution_count": null,
   "metadata": {},
   "outputs": [],
   "source": [
    "ax = sns.heatmap(share_map, cmap='YlGnBu', vmin=0.0, vmax=1.0)\n",
    "ax.invert_yaxis()"
   ]
  },
  {
   "cell_type": "code",
   "execution_count": null,
   "metadata": {},
   "outputs": [],
   "source": []
  }
 ],
 "metadata": {
  "kernelspec": {
   "display_name": "Python 3",
   "language": "python",
   "name": "python3"
  },
  "language_info": {
   "codemirror_mode": {
    "name": "ipython",
    "version": 3
   },
   "file_extension": ".py",
   "mimetype": "text/x-python",
   "name": "python",
   "nbconvert_exporter": "python",
   "pygments_lexer": "ipython3",
   "version": "3.8.5"
  }
 },
 "nbformat": 4,
 "nbformat_minor": 1
}