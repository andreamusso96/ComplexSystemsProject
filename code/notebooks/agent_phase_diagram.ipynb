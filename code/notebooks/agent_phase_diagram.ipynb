{
 "cells": [
  {
   "cell_type": "markdown",
   "metadata": {},
   "source": [
    "# Cascade size phase diagrams\n",
    "\n",
    "Below we investigate the spreading of the news in a network depending on different model parameters. \n",
    "\n",
    "The considered parameters for the agent are\n",
    "* threshold\n",
    "* independence\n",
    "\n",
    "For the news we looked at the\n",
    "* sensation\n",
    "* decay parameter\n",
    "* number of initial agents\n",
    "\n",
    "The measure of the spreading is the cascade size $C$ which is defined as\n",
    "\n",
    "$$ C = \\# \\text{active agents} / \\#\\text{total agents} .$$\n",
    "\n",
    "Below we vary two parameters simulationeously and create heatmaps of the cascade size. We expect that the plots will look similar to a phase diagram, i.e. we expect regions with high cascade size and regions with low cascade size with a sharp transition. The parameters which are not considered in the experiment are either chosen uniformly at random or neglected."
   ]
  },
  {
   "cell_type": "code",
   "execution_count": 1,
   "metadata": {
    "pycharm": {
     "name": "#%%\n"
    }
   },
   "outputs": [],
   "source": [
    "import matplotlib.pyplot as plt\n",
    "import numpy as np\n",
    "import pandas as pd\n",
    "import seaborn as sns\n",
    "import random"
   ]
  },
  {
   "cell_type": "markdown",
   "metadata": {},
   "source": [
    "Import model classes and utility functions"
   ]
  },
  {
   "cell_type": "code",
   "execution_count": 2,
   "metadata": {
    "pycharm": {
     "name": "#%%\n"
    }
   },
   "outputs": [],
   "source": [
    "import os\n",
    "import sys\n",
    "sys.path.append(os.path.join(os.path.dirname(os.path.abspath(''))))"
   ]
  },
  {
   "cell_type": "code",
   "execution_count": 3,
   "metadata": {
    "pycharm": {
     "name": "#%%\n"
    }
   },
   "outputs": [],
   "source": [
    "from classes.agent import AgentState\n",
    "from classes.news import News\n",
    "from classes.utils import create_graph, construct_world, construct_world_constant_parameters"
   ]
  },
  {
   "cell_type": "markdown",
   "metadata": {},
   "source": [
    "## Threshold vs Sensation\n",
    "Here we vary the activation threshold of the agents and the sensation of the news.\n",
    "\n",
    "#### Setup\n",
    "* threshold: variation parameter, the same for all agents\n",
    "* independence: chosen uniformly at random\n",
    "* sensation: variation parameter\n",
    "* decay parameters: negelected (set to 0)\n",
    "\n",
    "In the report the experiment was done with 1000 agents, 50 samples and 15 initial agents."
   ]
  },
  {
   "cell_type": "code",
   "execution_count": 4,
   "metadata": {},
   "outputs": [],
   "source": [
    "def threshold_sensation_map(thresholds, sensations, num_agents=100, num_samples=10, initial_agents=5):\n",
    "    df = pd.DataFrame(columns=['Threshold', 'Sensation', 'number active'])\n",
    "    \n",
    "    print(f'Starting simulation with {num_agents} agents (this may take some time...)')    \n",
    "    for threshold in thresholds:\n",
    "        for sensation in sensations:\n",
    "            samples = []\n",
    "            for _ in range(num_samples):\n",
    "                # Prepare world\n",
    "                name_news = 1\n",
    "                news = {name_news: News(name_news, sensation, decay_parameter=0.0)}\n",
    "                \n",
    "                agent_names = list(range(num_agents))\n",
    "                agent_threshold = [threshold] * num_agents\n",
    "                agent_independence = np.random.random(num_agents)\n",
    "                \n",
    "                world = construct_world(agent_names, agent_threshold, agent_independence, news)\n",
    "                \n",
    "                # Activate random agent\n",
    "                initial_agent_names = np.random.choice(agent_names, initial_agents, replace=False)\n",
    "                for agent_name in initial_agent_names:\n",
    "                    world.agents[agent_name].states[name_news] = AgentState.ACTIVE\n",
    "                \n",
    "                # Update world until convergences\n",
    "                number_active, _, _ = world.full_dynamics()\n",
    "\n",
    "                samples.append(number_active / num_agents)\n",
    "                \n",
    "            df_active = pd.DataFrame([[threshold, sensation, np.mean(samples)]], columns=df.columns)\n",
    "            df = df.append(df_active, ignore_index=True)\n",
    "            \n",
    "    print('Simulation completed!!!')\n",
    "            \n",
    "    return df.astype(float).pivot('Sensation', 'Threshold', 'number active')"
   ]
  },
  {
   "cell_type": "code",
   "execution_count": 5,
   "metadata": {},
   "outputs": [
    {
     "name": "stdout",
     "output_type": "stream",
     "text": [
      "Starting simulation with 100 agents (this may take some time...)\n",
      "Simulation completed!!!\n"
     ]
    }
   ],
   "source": [
    "thresholds = np.linspace(0.0, 1.0, 21)\n",
    "sensation = np.linspace(0.0, 1.0, 21)\n",
    "\n",
    "cascade_size_ts = threshold_sensation_map(thresholds, sensation, num_agents=100, num_samples=10, initial_agents=3)"
   ]
  },
  {
   "cell_type": "code",
   "execution_count": 6,
   "metadata": {},
   "outputs": [
    {
     "data": {
      "image/png": "[encoded data removed]",
      "text/plain": [
       "<Figure size 432x288 with 2 Axes>"
      ]
     },
     "metadata": {
      "needs_background": "light"
     },
     "output_type": "display_data"
    }
   ],
   "source": [
    "ax = sns.heatmap(\n",
    "    cascade_size_ts,\n",
    "    cmap='YlGnBu',\n",
    "    vmin=0.0,\n",
    "    vmax=1.0,\n",
    "    xticklabels=np.float32(thresholds),\n",
    "    yticklabels=np.float32(sensation))\n",
    "ax.invert_yaxis()\n",
    "\n",
    "plt.title('Cascade size: Threshold vs Sensation')\n",
    "plt.tight_layout()"
   ]
  },
  {
   "cell_type": "markdown",
   "metadata": {},
   "source": [
    "## Independence vs Sensation\n",
    "Here we vary the independence of the agents and the sensation of the news.\n",
    "\n",
    "#### Setup\n",
    "* threshold: chosen uniformly at random\n",
    "* independence: variation parameter, the same for all agents\n",
    "* sensation: variation parameter\n",
    "* decay parameters: negelected (set to 0)\n",
    "\n",
    "In the report the experiment was done with 1000 agents, 50 samples and 15 initial agents."
   ]
  },
  {
   "cell_type": "code",
   "execution_count": 7,
   "metadata": {},
   "outputs": [],
   "source": [
    "def independence_sensation_map(independences, sensations, num_agents=100, num_samples=10, initial_agents=5):\n",
    "    df = pd.DataFrame(columns=['independence', 'sensation', 'number active'])\n",
    "    \n",
    "    print(f'Starting simulation with {num_agents} agents (this may take some time...)')    \n",
    "    for independence in independences:\n",
    "        for sensation in sensations:\n",
    "            samples = []\n",
    "            for _ in range(num_samples):\n",
    "                # Prepare world\n",
    "                name_news = 1\n",
    "                news = {name_news: News(name_news, sensation, decay_parameter=0.0)}\n",
    "                \n",
    "                agent_names = list(range(num_agents))\n",
    "                agent_threshold = np.random.random(num_agents)\n",
    "                agent_independence = [independence] * num_agents\n",
    "                \n",
    "                world = construct_world(agent_names, agent_threshold, agent_independence, news)\n",
    "                \n",
    "                # Activate random agent\n",
    "                initial_agent_names = np.random.choice(agent_names, initial_agents, replace=False)\n",
    "                for agent_name in initial_agent_names:\n",
    "                    world.agents[agent_name].states[name_news] = AgentState.ACTIVE\n",
    "                \n",
    "                # Update world until convergences\n",
    "                number_active, _, _ = world.full_dynamics()\n",
    "\n",
    "                samples.append(number_active / num_agents)\n",
    "                \n",
    "            df_active = pd.DataFrame([[independence, sensation, np.mean(samples)]], columns=df.columns)\n",
    "            df = df.append(df_active, ignore_index=True)\n",
    "            \n",
    "    print('Simulation completed!!!')\n",
    "            \n",
    "    return df.astype(float).pivot('sensation', 'independence', 'number active')"
   ]
  },
  {
   "cell_type": "code",
   "execution_count": 8,
   "metadata": {},
   "outputs": [
    {
     "name": "stdout",
     "output_type": "stream",
     "text": [
      "Starting simulation with 100 agents (this may take some time...)\n",
      "Simulation completed!!!\n"
     ]
    }
   ],
   "source": [
    "independence = np.linspace(0.0, 1.0, 21)\n",
    "sensation = np.linspace(0.0, 1.0, 21)\n",
    "\n",
    "cascade_size_is = independence_sensation_map(independence, sensation, num_agents=100, num_samples=10, initial_agents=3)"
   ]
  },
  {
   "cell_type": "code",
   "execution_count": 9,
   "metadata": {},
   "outputs": [
    {
     "data": {
      "image/png": "[encoded data removed]",
      "text/plain": [
       "<Figure size 432x288 with 2 Axes>"
      ]
     },
     "metadata": {
      "needs_background": "light"
     },
     "output_type": "display_data"
    }
   ],
   "source": [
    "ax = sns.heatmap(\n",
    "    cascade_size_is,\n",
    "    cmap='YlGnBu',\n",
    "    vmin=0.0,\n",
    "    vmax=1.0,\n",
    "    xticklabels=np.float32(independence),\n",
    "    yticklabels=np.float32(sensation))\n",
    "ax.invert_yaxis()\n",
    "\n",
    "plt.title('Cascade size: Independence vs Sensation')\n",
    "plt.tight_layout()"
   ]
  },
  {
   "cell_type": "markdown",
   "metadata": {},
   "source": [
    "## Decay parameter vs Sensation\n",
    "Here we vary the independence of the agents and the sensation of the news.\n",
    "\n",
    "#### Setup\n",
    "* threshold: chosen uniformly at random\n",
    "* independence: chosen uniformly at random\n",
    "* sensation: variation parameter\n",
    "* decay parameters: variation parameter\n",
    "\n",
    "In the report the experiment was done with 1000 agents, 50 samples and 15 initial agents."
   ]
  },
  {
   "cell_type": "code",
   "execution_count": 10,
   "metadata": {},
   "outputs": [],
   "source": [
    "def decay_sensation_map(decay_parameters, sensations, num_agents=100, num_samples=10, initial_agents=5):\n",
    "    df = pd.DataFrame(columns=['decay parameter', 'sensation', 'number active'])\n",
    "    \n",
    "    print(f'Starting simulation with {num_agents} agents (this may take some time...)')    \n",
    "    for decay_parameter in decay_parameters:\n",
    "        for sensation in sensations:\n",
    "            samples = []\n",
    "            for _ in range(num_samples):\n",
    "                # Prepare world\n",
    "                name_news = 1\n",
    "                news = {name_news: News(name_news, sensation, decay_parameter)}\n",
    "                \n",
    "                agent_names = list(range(num_agents))\n",
    "                agent_threshold = np.random.random(num_agents)\n",
    "                agent_independence = np.random.random(num_agents)\n",
    "                \n",
    "                world = construct_world(agent_names, agent_threshold, agent_independence, news)\n",
    "                \n",
    "                # Activate random agent\n",
    "                initial_agent_names = np.random.choice(agent_names, initial_agents, replace=False)\n",
    "                for agent_name in initial_agent_names:\n",
    "                    world.agents[agent_name].states[name_news] = AgentState.ACTIVE\n",
    "                \n",
    "                # Update world until convergences\n",
    "                number_active, _, _ = world.full_dynamics()\n",
    "\n",
    "                samples.append(number_active / num_agents)\n",
    "                \n",
    "            df_active = pd.DataFrame([[decay_parameter, sensation, np.mean(samples)]], columns=df.columns)\n",
    "            df = df.append(df_active, ignore_index=True)\n",
    "            \n",
    "    print('Simulation completed!!!')\n",
    "            \n",
    "    return df.astype(float).pivot('sensation', 'decay parameter', 'number active')"
   ]
  },
  {
   "cell_type": "code",
   "execution_count": 11,
   "metadata": {
    "pycharm": {
     "name": "#%%\n"
    }
   },
   "outputs": [
    {
     "name": "stdout",
     "output_type": "stream",
     "text": [
      "Starting simulation with 100 agents (this may take some time...)\n",
      "Simulation completed!!!\n"
     ]
    }
   ],
   "source": [
    "decay_parameters = np.logspace(-5, 2, 15)\n",
    "sensation = np.linspace(0.0, 1.0, 21)\n",
    "\n",
    "cascade_size_ds = decay_sensation_map(decay_parameters, sensation, num_agents=100, num_samples=10, initial_agents=3)"
   ]
  },
  {
   "cell_type": "code",
   "execution_count": 12,
   "metadata": {
    "pycharm": {
     "name": "#%%\n"
    }
   },
   "outputs": [
    {
     "data": {
      "image/png": "[encoded data removed]",
      "text/plain": [
       "<Figure size 432x288 with 2 Axes>"
      ]
     },
     "metadata": {
      "needs_background": "light"
     },
     "output_type": "display_data"
    }
   ],
   "source": [
    "ax = sns.heatmap(\n",
    "    cascade_size_ds,\n",
    "    cmap='YlGnBu',\n",
    "    vmin=0.0,\n",
    "    vmax=1.0,\n",
    "    xticklabels=[f'{nmb:.2g}' if not idx % 2 else '' for idx, nmb in enumerate(np.float32(decay_parameters))],\n",
    "    yticklabels=np.float32(sensation))\n",
    "ax.invert_yaxis()\n",
    "\n",
    "plt.title('Cascade size: Decay parameter vs Sensation')\n",
    "plt.tight_layout()"
   ]
  },
  {
   "cell_type": "markdown",
   "metadata": {},
   "source": [
    "### Threshold vs Independence\n",
    "Here we vary the independence of the agents and the sensation of the news.\n",
    "Setup\n",
    "\n",
    "* threshold: variation parameter\n",
    "* independence: variation parameter\n",
    "* sensation: set to 0.8.\n",
    "* decay parameters: negelected (set to 0)\n",
    "\n",
    "In the report the experiment was done with 1000 agents, 50 samples and 15 initial agents."
   ]
  },
  {
   "cell_type": "code",
   "execution_count": 13,
   "metadata": {},
   "outputs": [],
   "source": [
    "def threshold_independence_map(thresholds, independences, num_agents=100, num_samples=10, sensation=0.8, initial_agents=5):\n",
    "    df = pd.DataFrame(columns=['threshold', 'independence', 'number active'])\n",
    "    \n",
    "    print(f'Starting simulation with {num_agents} agents (this may take some time...)')    \n",
    "    for threshold in thresholds:\n",
    "        for independence in independences:\n",
    "            samples = []\n",
    "            for _ in range(num_samples):\n",
    "                # Prepare world\n",
    "                name_news = 1\n",
    "                news = {name_news: News(name_news, sensation, decay_parameter=0.0)}\n",
    "                \n",
    "                world = construct_world_constant_parameters(num_agents, threshold, independence, news)\n",
    "                agent_names = list(world.agents.keys())\n",
    "                \n",
    "                # Activate random agent\n",
    "                initial_agent_names = np.random.choice(agent_names, initial_agents, replace=False)\n",
    "                for agent_name in initial_agent_names:\n",
    "                    world.agents[agent_name].states[name_news] = AgentState.ACTIVE\n",
    "                \n",
    "                # Update world until convergences\n",
    "                number_active, _, _ = world.full_dynamics()\n",
    "\n",
    "                samples.append(number_active / num_agents)\n",
    "                \n",
    "            df_active = pd.DataFrame([[threshold, independence, np.mean(samples)]], columns=df.columns)\n",
    "            df = df.append(df_active, ignore_index=True)\n",
    "            \n",
    "    print('Simulation completed!!!')\n",
    "            \n",
    "    return df.astype(float).pivot('independence', 'threshold', 'number active')"
   ]
  },
  {
   "cell_type": "code",
   "execution_count": 14,
   "metadata": {},
   "outputs": [
    {
     "name": "stdout",
     "output_type": "stream",
     "text": [
      "Starting simulation with 100 agents (this may take some time...)\n",
      "Simulation completed!!!\n"
     ]
    }
   ],
   "source": [
    "thresholds = np.linspace(0.0, 1.0, 21)\n",
    "independences = np.linspace(0.0, 1.0, 21)\n",
    "\n",
    "cascade_size_ti = threshold_independence_map(thresholds, independences, num_agents=100, num_samples=10, initial_agents=3)"
   ]
  },
  {
   "cell_type": "code",
   "execution_count": 15,
   "metadata": {
    "scrolled": false
   },
   "outputs": [
    {
     "data": {
      "image/png": "[encoded data removed]",
      "text/plain": [
       "<Figure size 432x288 with 2 Axes>"
      ]
     },
     "metadata": {
      "needs_background": "light"
     },
     "output_type": "display_data"
    }
   ],
   "source": [
    "ax = sns.heatmap(\n",
    "    cascade_size_ti,\n",
    "    cmap='YlGnBu',\n",
    "    vmin=0.0,\n",
    "    vmax=1.0,\n",
    "    xticklabels=np.float32(thresholds),\n",
    "    yticklabels=np.float32(independences))\n",
    "ax.invert_yaxis()\n",
    "\n",
    "plt.title('Cascade size: Threshold vs Independence')\n",
    "plt.tight_layout()"
   ]
  },
  {
   "cell_type": "markdown",
   "metadata": {},
   "source": [
    "### Number initial agents vs Sensation\n",
    "Here we look at the number of initial agents and the sensation of the news.\n",
    "\n",
    "* threshold: chosen uniformly at random\n",
    "* independence: chosen uniformly at random\n",
    "* sensation: variation parameter\n",
    "* decay parameters: negelected (set to 0)\n",
    "\n",
    "In the first experiment the initial agents are chosen at random.\n",
    "In the second experiment the initial agents are chosen according to the number of receivers they have.\n",
    "\n",
    "In the report the experiments were done with 1000 agents and 50 samples."
   ]
  },
  {
   "cell_type": "markdown",
   "metadata": {},
   "source": [
    "##### Random"
   ]
  },
  {
   "cell_type": "code",
   "execution_count": 16,
   "metadata": {},
   "outputs": [],
   "source": [
    "def initial_agents_random(initial_agents, sensations, num_agents=100, num_samples=10):    \n",
    "    df = pd.DataFrame(columns=['number initial agents', 'sensation', 'number active'])\n",
    "    \n",
    "    print(f'Starting simulation with {num_agents} agents (this may take some time...)')  \n",
    "    for initial in initial_agents:\n",
    "        for s in sensations:\n",
    "            samples = []\n",
    "            for _ in range(num_samples):\n",
    "                name_news = 1\n",
    "                news = {name_news: News(name_news, s, decay_parameter=0.0)}\n",
    "                \n",
    "                agent_names = list(range(num_agents))\n",
    "                thresholds = np.random.random(num_agents)\n",
    "                independences = np.random.random(num_agents)\n",
    "                \n",
    "                world = construct_world(agent_names, thresholds, independences, news)\n",
    "\n",
    "                initial_agent_names = np.random.choice(agent_names, int(initial), replace=False)\n",
    "                for agent_name in initial_agent_names:\n",
    "                    world.agents[agent_name].states[name_news] = AgentState.ACTIVE\n",
    "                \n",
    "                number_active, _, _ = world.full_dynamics()\n",
    "                samples.append(number_active / num_agents)\n",
    "            \n",
    "            df_active = pd.DataFrame([[initial, s, np.mean(samples)]], columns=df.columns)\n",
    "            df = df.append(df_active, ignore_index=True)\n",
    "            \n",
    "    print('Simulation completed!!!')\n",
    "    return df.astype(float).pivot('sensation', 'number initial agents', 'number active')"
   ]
  },
  {
   "cell_type": "code",
   "execution_count": 17,
   "metadata": {},
   "outputs": [
    {
     "name": "stdout",
     "output_type": "stream",
     "text": [
      "Starting simulation with 100 agents (this may take some time...)\n",
      "Simulation completed!!!\n"
     ]
    }
   ],
   "source": [
    "initial_agents = list(range(1, 40, 2))\n",
    "sensation = np.linspace(0.05, 0.95, 19)\n",
    "\n",
    "cascade_size_random = initial_agents_random(initial_agents, sensation, num_agents=100, num_samples=10)"
   ]
  },
  {
   "cell_type": "code",
   "execution_count": 18,
   "metadata": {},
   "outputs": [
    {
     "data": {
      "image/png": "[encoded data removed]",
      "text/plain": [
       "<Figure size 432x288 with 2 Axes>"
      ]
     },
     "metadata": {
      "needs_background": "light"
     },
     "output_type": "display_data"
    }
   ],
   "source": [
    "ax = sns.heatmap(\n",
    "    cascade_size_random,\n",
    "    cmap='YlGnBu',\n",
    "    vmin=0.0,\n",
    "    vmax=1.0,\n",
    "    xticklabels=initial_agents,\n",
    "    yticklabels=np.float32(sensation))\n",
    "ax.invert_yaxis()\n",
    "\n",
    "plt.title('Cascade size: Initial agents (random) vs Sensation')\n",
    "plt.tight_layout()"
   ]
  },
  {
   "cell_type": "markdown",
   "metadata": {},
   "source": [
    "##### Number of receivers"
   ]
  },
  {
   "cell_type": "code",
   "execution_count": 19,
   "metadata": {},
   "outputs": [],
   "source": [
    "def get_agents_highest_out_degree(n, world):\n",
    "    agents_sorted = {key: value for key, value in sorted(world.agents.items(), key=lambda item: -len(item[1].receivers))}\n",
    "    return list(agents_sorted.keys())[:n]\n",
    "    \n",
    "\n",
    "def initial_agents_out_degree(initial_agents, sensations, num_agents=100, num_samples=10):\n",
    "    df = pd.DataFrame(columns=['number initial agents', 'sensation', 'number active'])\n",
    "    \n",
    "    print(f'Starting simulation with {num_agents} agents (this may take some time...)')  \n",
    "    for initial in initial_agents:\n",
    "        for s in sensations:\n",
    "            samples = []\n",
    "            for _ in range(num_samples):\n",
    "                name_news = 1\n",
    "                news = {name_news: News(name_news, s, decay_parameter=0.0)}\n",
    "                \n",
    "                agent_names = list(range(num_agents))\n",
    "                thresholds = np.random.random(num_agents)\n",
    "                independences = np.random.random(num_agents)\n",
    "                \n",
    "                world = construct_world(agent_names, thresholds, independences, news)\n",
    "\n",
    "                initial_agent_names = get_agents_highest_out_degree(initial, world)\n",
    "                for agent_name in initial_agent_names:\n",
    "                    world.agents[agent_name].states[name_news] = AgentState.ACTIVE\n",
    "                \n",
    "                number_active, _, _ = world.full_dynamics()\n",
    "                samples.append(number_active / num_agents)\n",
    "            \n",
    "            df_active = pd.DataFrame([[initial, s, np.mean(samples)]], columns=df.columns)\n",
    "            df = df.append(df_active, ignore_index=True)\n",
    "            \n",
    "    print('Simulation completed!!!')\n",
    "    return df.astype(float).pivot('sensation', 'number initial agents', 'number active')"
   ]
  },
  {
   "cell_type": "code",
   "execution_count": 20,
   "metadata": {},
   "outputs": [
    {
     "name": "stdout",
     "output_type": "stream",
     "text": [
      "Starting simulation with 100 agents (this may take some time...)\n",
      "Simulation completed!!!\n"
     ]
    }
   ],
   "source": [
    "initial_agents = range(1, 40, 2)\n",
    "sensation = np.linspace(0.05, 0.95, 19)\n",
    "\n",
    "cascade_size_out_degree = initial_agents_out_degree(initial_agents, sensation, num_agents=100, num_samples=10)"
   ]
  },
  {
   "cell_type": "code",
   "execution_count": 21,
   "metadata": {},
   "outputs": [
    {
     "data": {
      "image/png": "[encoded data removed]",
      "text/plain": [
       "<Figure size 432x288 with 2 Axes>"
      ]
     },
     "metadata": {
      "needs_background": "light"
     },
     "output_type": "display_data"
    }
   ],
   "source": [
    "ax = sns.heatmap(\n",
    "    cascade_size_out_degree,\n",
    "    cmap='YlGnBu',\n",
    "    vmin=0.0,\n",
    "    vmax=1.0,\n",
    "    xticklabels=initial_agents,\n",
    "    yticklabels=np.float32(sensation))\n",
    "ax.invert_yaxis()\n",
    "\n",
    "plt.title('Cascade size: Initial agents (out-degree) vs Sensation')\n",
    "plt.tight_layout()"
   ]
  },
  {
   "cell_type": "code",
   "execution_count": null,
   "metadata": {},
   "outputs": [],
   "source": []
  }
 ],
 "metadata": {
  "kernelspec": {
   "display_name": "Python 3",
   "language": "python",
   "name": "python3"
  },
  "language_info": {
   "codemirror_mode": {
    "name": "ipython",
    "version": 3
   },
   "file_extension": ".py",
   "mimetype": "text/x-python",
   "name": "python",
   "nbconvert_exporter": "python",
   "pygments_lexer": "ipython3",
   "version": "3.8.5"
  }
 },
 "nbformat": 4,
 "nbformat_minor": 1
}
