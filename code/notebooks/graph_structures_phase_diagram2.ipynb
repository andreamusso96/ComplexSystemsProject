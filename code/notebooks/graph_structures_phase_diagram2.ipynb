{
 "cells": [
  {
   "cell_type": "code",
   "execution_count": 1,
   "metadata": {},
   "outputs": [],
   "source": [
    "import numpy as np\n",
    "import pandas as pd\n",
    "import seaborn as sns\n",
    "import random"
   ]
  },
  {
   "cell_type": "code",
   "execution_count": 2,
   "metadata": {},
   "outputs": [],
   "source": [
    "import os\n",
    "import sys\n",
    "sys.path.append(os.path.join(os.path.dirname(os.path.abspath(''))))"
   ]
  },
  {
   "cell_type": "code",
   "execution_count": 3,
   "metadata": {},
   "outputs": [],
   "source": [
    "from classes.agent import AgentState\n",
    "from classes.news import News\n",
    "from classes.utils import construct_world_given_graph\n",
    "from Graph_Structure_Experiment import build_graph"
   ]
  },
  {
   "cell_type": "code",
   "execution_count": 4,
   "metadata": {},
   "outputs": [],
   "source": [
    "def create_sensation_map(num_additional_edges, centralisation, num_agents=500, num_samples=10, initial_active_agents=5, sensation_news = 0.5):\n",
    "    agent_names = list(range(num_agents))\n",
    "    thresholds = np.random.random(num_agents)\n",
    "    independences = (1/100)*np.random.random(num_agents)\n",
    "    \n",
    "    df = pd.DataFrame(columns=['additional_edges', 'centralisation', 'number active'])\n",
    "    nw = News(1, sensation=sensation_news, decay_parameter=0)\n",
    "    news = {nw.name: nw}\n",
    "    \n",
    "    print(f'Starting simulation with {num_agents} agents (this may take some time...)')  \n",
    "    for k in num_additional_edges:\n",
    "        print(k, end='\\r')\n",
    "        for z in centralisation:\n",
    "            print('k: ',k,'z: ',z, end='\\r')\n",
    "            samples = []\n",
    "            for _ in range(num_samples):\n",
    "                graph = build_graph(num_nodes = num_agents, number_of_additional_edges=k, centralisation=z)\n",
    "                world = construct_world_given_graph(agent_names, thresholds, independences, news, graph)\n",
    "\n",
    "                initial_agent_names = np.random.choice(agent_names, initial_active_agents, replace=False)\n",
    "                for i in range(initial_active_agents):\n",
    "                    world.agents[initial_agent_names[i]].states[nw.name] = AgentState.ACTIVE\n",
    "                \n",
    "                number_active, _, _ = world.full_dynamics()\n",
    "                samples.append(number_active)\n",
    "            \n",
    "            df_active = pd.DataFrame([[k, z, np.mean(samples) / num_agents]], columns=df.columns)\n",
    "            df = df.append(df_active, ignore_index=True)\n",
    "            \n",
    "    print('Simulation completed!!!')\n",
    "    return df.astype(float).pivot('additional_edges', 'centralisation', 'number active')"
   ]
  },
  {
   "cell_type": "code",
   "execution_count": 5,
   "metadata": {},
   "outputs": [
    {
     "name": "stdout",
     "output_type": "stream",
     "text": [
      "Starting simulation with 500 agents (this may take some time...)\n",
      "Simulation completed!!!\n"
     ]
    }
   ],
   "source": [
    "centralisation = np.linspace(0.0, 1.0, 11)\n",
    "num_additional_edges = np.logspace(start=1,stop=4,num=10,base = 10, dtype = int)\n",
    "\n",
    "\n",
    "sensation_map = create_sensation_map(num_additional_edges, centralisation)"
   ]
  },
  {
   "cell_type": "code",
   "execution_count": 6,
   "metadata": {},
   "outputs": [
    {
     "data": {
      "image/png": "[encoded data removed]",
      "text/plain": [
       "<Figure size 432x288 with 2 Axes>"
      ]
     },
     "metadata": {
      "needs_background": "light"
     },
     "output_type": "display_data"
    }
   ],
   "source": [
    "ax = sns.heatmap(sensation_map, vmin=0, vmax=1.0)\n",
    "ax.invert_yaxis()"
   ]
  },
  {
   "cell_type": "code",
   "execution_count": null,
   "metadata": {},
   "outputs": [],
   "source": []
  }
 ],
 "metadata": {
  "kernelspec": {
   "display_name": "Python 3",
   "language": "python",
   "name": "python3"
  },
  "language_info": {
   "codemirror_mode": {
    "name": "ipython",
    "version": 3
   },
   "file_extension": ".py",
   "mimetype": "text/x-python",
   "name": "python",
   "nbconvert_exporter": "python",
   "pygments_lexer": "ipython3",
   "version": "3.8.5"
  }
 },
 "nbformat": 4,
 "nbformat_minor": 4
}
