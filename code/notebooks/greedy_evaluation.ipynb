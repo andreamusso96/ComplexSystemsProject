{
 "cells": [
  {
   "cell_type": "code",
   "execution_count": 1,
   "metadata": {},
   "outputs": [],
   "source": [
    "import matplotlib.pyplot as plt\n",
    "import numpy as np\n",
    "import networkx as nx\n",
    "from copy import deepcopy\n",
    "\n",
    "import os\n",
    "import sys\n",
    "sys.path.append(os.path.dirname(os.path.abspath('')))\n",
    "\n",
    "from classes.agent import Agent\n",
    "from classes.world import World\n",
    "\n",
    "from classes.utils import *\n",
    "from classes.news import News\n",
    "from classes.agent import AgentState"
   ]
  },
  {
   "cell_type": "code",
   "execution_count": 2,
   "metadata": {},
   "outputs": [],
   "source": [
    "def cascadesize(world):\n",
    "    return sum([1 if a.is_active() else 0 for a in world.agents.values()])\n",
    "\n",
    "def measure_cascadesize(world, starting, max_iter):\n",
    "    r = np.zeros(max_iter)\n",
    "    for a in starting.keys():\n",
    "        a.states[starting[a]] = AgentState.ACTIVE\n",
    "    r[0] = cascadesize(world)\n",
    "    for iter in range(1, max_iter):\n",
    "        x = world.update(verbose=True)\n",
    "        if x == 0:\n",
    "            for k in range(iter, max_iter):\n",
    "                r[k] = r[k-1]\n",
    "                break\n",
    "        r[iter] = cascadesize(world)\n",
    "    return r"
   ]
  },
  {
   "cell_type": "code",
   "execution_count": 3,
   "metadata": {},
   "outputs": [],
   "source": [
    "def comp_starting_sets(worlds, sets, max_iter = 50):\n",
    "    ccs = []\n",
    "    for s, w in zip(sets, worlds):\n",
    "        ccs.append(measure_cascadesize(w, s, max_iter))\n",
    "    return ccs"
   ]
  },
  {
   "cell_type": "code",
   "execution_count": 4,
   "metadata": {},
   "outputs": [],
   "source": [
    "sensation_news = 0.0\n",
    "decay_parameter_news = 0\n",
    "n1 = News(0, sensation_news, decay_parameter_news)\n",
    "news1 = {n1.name: n1}\n",
    "number_agents = 50\n",
    "names_agents = [_ for _ in range(number_agents)]\n",
    "threshold = np.clip(np.random.normal(0.5, 0.1, number_agents), 0.0, 1.0) #mean = 0.5, sigma = 0.1\n",
    "independence = np.clip(np.random.normal(0.5, 0.1, number_agents), 0.0, 1.0) #mean = 0.5, sigma = 0.1\n",
    "w1 = construct_world(names_agents, threshold, independence, news1)\n",
    "w2 = deepcopy(w1)"
   ]
  },
  {
   "cell_type": "code",
   "execution_count": 5,
   "metadata": {},
   "outputs": [
    {
     "name": "stdout",
     "output_type": "stream",
     "text": [
      "greedy approximation [0, 21, 40, 13, 40, 46, 2, 29]\n",
      "degree centrality    [0, 1, 4, 11, 3, 5, 8, 7]\n",
      "expected number of influenced: greedy: 24.96\n",
      "expected number of influenced: degree: 26.16\n"
     ]
    }
   ],
   "source": [
    "k = 8\n",
    "kset = approx_most_influential(w1, k, sample_size=25, verbose=False) #THIS TAKES SOME TIME !!!\n",
    "s1 = {}\n",
    "for agent in kset:\n",
    "    s1[agent] = 0\n",
    "degree_centrality = []\n",
    "for _ in range(k):\n",
    "    best = None\n",
    "    bdeg = -1\n",
    "    for a in w2.graph.nodes():\n",
    "        if w2.agents[a] in degree_centrality:\n",
    "            continue\n",
    "        d = w2.graph.out_degree(a)\n",
    "        if d > bdeg:\n",
    "            bdeg = d\n",
    "            best = w2.agents[a]\n",
    "    degree_centrality.append(best)\n",
    "s2 = {}\n",
    "for agent in degree_centrality:\n",
    "    s2[agent] = 0\n",
    "print(\"greedy approximation\", [a.name for a in kset])\n",
    "print(\"degree centrality   \", [a.name for a in degree_centrality])\n",
    "print(\"expected number of influenced: greedy:\", get_expected_number_of_influenced_agents(w1, [a.name for a in kset], 100))\n",
    "print(\"expected number of influenced: degree:\", get_expected_number_of_influenced_agents(w1, [a.name for a in degree_centrality], 100))"
   ]
  },
  {
   "cell_type": "code",
   "execution_count": 6,
   "metadata": {},
   "outputs": [
    {
     "name": "stdout",
     "output_type": "stream",
     "text": [
      "[7. 9. 9. 9. 9. 9. 9. 9. 9. 9.]\n",
      "[ 8. 17. 18. 18. 18. 18. 18. 18. 18. 18.]\n"
     ]
    }
   ],
   "source": [
    "n = 10\n",
    "ccs = comp_starting_sets([w1, w2], [s1, s2], n)\n",
    "for cs in ccs:\n",
    "    print(cs)"
   ]
  },
  {
   "cell_type": "code",
   "execution_count": 7,
   "metadata": {},
   "outputs": [
    {
     "data": {
      "image/png": "[encoded data removed]",
      "text/plain": [
       "<Figure size 432x288 with 1 Axes>"
      ]
     },
     "metadata": {
      "needs_background": "light"
     },
     "output_type": "display_data"
    }
   ],
   "source": [
    "t = np.arange(0, n, 1)\n",
    "cs1, cs2 = ccs\n",
    "plt.plot(t, cs1, 'g*', label=\"greedy\")\n",
    "plt.plot( t, cs2, 'b.', label=\"degree centrality\")\n",
    "plt.grid()\n",
    "plt.xlabel(\"timestep\")\n",
    "plt.ylabel(\"cascade size\")\n",
    "plt.legend()\n",
    "plt.show()"
   ]
  },
  {
   "cell_type": "code",
   "execution_count": null,
   "metadata": {},
   "outputs": [],
   "source": []
  }
 ],
 "metadata": {
  "kernelspec": {
   "display_name": "Python 3",
   "language": "python",
   "name": "python3"
  },
  "language_info": {
   "codemirror_mode": {
    "name": "ipython",
    "version": 3
   },
   "file_extension": ".py",
   "mimetype": "text/x-python",
   "name": "python",
   "nbconvert_exporter": "python",
   "pygments_lexer": "ipython3",
   "version": "3.8.5"
  }
 },
 "nbformat": 4,
 "nbformat_minor": 4
}
