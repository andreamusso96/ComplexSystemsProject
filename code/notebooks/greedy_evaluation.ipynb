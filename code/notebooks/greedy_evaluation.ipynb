{
 "cells": [
  {
   "cell_type": "code",
   "execution_count": 1,
   "metadata": {},
   "outputs": [],
   "source": [
    "import matplotlib.pyplot as plt\n",
    "import numpy as np\n",
    "import networkx as nx\n",
    "from copy import deepcopy\n",
    "\n",
    "import os\n",
    "import sys\n",
    "sys.path.append(os.path.dirname(os.path.abspath('')))\n",
    "\n",
    "from classes.agent import Agent\n",
    "from classes.world import World\n",
    "\n",
    "from classes.utils import *\n",
    "from classes.news import News\n",
    "from classes.agent import AgentState"
   ]
  },
  {
   "cell_type": "code",
   "execution_count": 24,
   "metadata": {},
   "outputs": [],
   "source": [
    "def cascadesize(world):\n",
    "    return sum([1 if a.is_active() else 0 for a in world.agents.values()])\n",
    "\n",
    "def measure_cascadesize(world, starting, max_iter):\n",
    "    r = np.zeros(max_iter)\n",
    "    for a in starting.keys():\n",
    "        a.states[starting[a]] = AgentState.ACTIVE\n",
    "    r[0] = cascadesize(world)\n",
    "    for iter in range(1, max_iter):\n",
    "        x = world.update(verbose=True)\n",
    "        if x == 0:\n",
    "            for k in range(iter, max_iter):\n",
    "                r[k] = r[k-1]\n",
    "                break\n",
    "        r[iter] = cascadesize(world)\n",
    "    return r"
   ]
  },
  {
   "cell_type": "code",
   "execution_count": 25,
   "metadata": {},
   "outputs": [],
   "source": [
    "def comp_starting_sets(worlds, sets, max_iter = 50):\n",
    "    ccs = []\n",
    "    for s, w in zip(sets, worlds):\n",
    "        ccs.append(measure_cascadesize(w, s, max_iter))\n",
    "    return ccs"
   ]
  },
  {
   "cell_type": "code",
   "execution_count": 26,
   "metadata": {},
   "outputs": [],
   "source": [
    "sensation_news = 0.5\n",
    "decay_parameter_news = 0\n",
    "n1 = News(0, sensation_news, decay_parameter_news)\n",
    "news1 = {n1.name: n1}\n",
    "n2 = News(0, sensation_news, decay_parameter_news)\n",
    "news2 = {n2.name: n2}\n",
    "\n",
    "number_agents = 100\n",
    "threshold = 0.5\n",
    "independence = 0.15\n",
    "g1 = create_graph(number_agents)\n",
    "g2 = deepcopy(g1)\n",
    "\n",
    "agents1 = construct_agent_constant_parameters(number_agents, threshold, independence, news1, g1)\n",
    "agents2 = construct_agent_constant_parameters(number_agents, threshold, independence, news2, g2)\n",
    "w1 = World(agents1, news1, g1)\n",
    "w2 = World(agents2, news2, g2)"
   ]
  },
  {
   "cell_type": "code",
   "execution_count": null,
   "metadata": {},
   "outputs": [],
   "source": [
    "k = 10\n",
    "kset = approx_most_influential(w1, k, sample_size=25, verbose=False) #THIS TAKES SOME TIME !!!\n",
    "s1 = {}\n",
    "for agent in kset:\n",
    "    s1[agent] = 0\n",
    "degree_centrality = []\n",
    "for _ in range(k):\n",
    "    best = None\n",
    "    bdeg = -1\n",
    "    for a in w2.graph.nodes():\n",
    "        if w2.agents[a] in degree_centrality:\n",
    "            continue\n",
    "        d = w2.graph.out_degree(a)\n",
    "        if d > bdeg:\n",
    "            best = w2.agents[a]\n",
    "    degree_centrality.append(best)\n",
    "s2 = {}\n",
    "for agent in degree_centrality:\n",
    "    s2[agent] = 0\n",
    "print(\"greedy approx    \", [a.name for a in kset])\n",
    "print(\"degree centrality\", [a.name for a in degree_centrality])"
   ]
  },
  {
   "cell_type": "code",
   "execution_count": null,
   "metadata": {},
   "outputs": [],
   "source": [
    "n = 50\n",
    "ccs = comp_starting_sets([w1, w2], [s1, s2], 50)\n",
    "for cs in ccs:\n",
    "    print(cs)"
   ]
  },
  {
   "cell_type": "code",
   "execution_count": null,
   "metadata": {},
   "outputs": [],
   "source": [
    "t = np.arange(0, n, 1)\n",
    "cs1, cs2 = ccs\n",
    "plt.plot(t, cs1, 'r', t, cs2, 'b')\n",
    "plt.grid()\n",
    "plt.show()"
   ]
  },
  {
   "cell_type": "code",
   "execution_count": null,
   "metadata": {},
   "outputs": [],
   "source": []
  }
 ],
 "metadata": {
  "kernelspec": {
   "display_name": "Python 3",
   "language": "python",
   "name": "python3"
  },
  "language_info": {
   "codemirror_mode": {
    "name": "ipython",
    "version": 3
   },
   "file_extension": ".py",
   "mimetype": "text/x-python",
   "name": "python",
   "nbconvert_exporter": "python",
   "pygments_lexer": "ipython3",
   "version": "3.8.2"
  }
 },
 "nbformat": 4,
 "nbformat_minor": 4
}
