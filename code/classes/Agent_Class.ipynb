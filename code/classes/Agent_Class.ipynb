{
 "cells": [
  {
   "cell_type": "code",
   "execution_count": 15,
   "metadata": {},
   "outputs": [
    {
     "data": {
      "text/plain": [
       "' Agent class '"
      ]
     },
     "execution_count": 15,
     "metadata": {},
     "output_type": "execute_result"
    }
   ],
   "source": [
    "\"\"\" Agent class \"\"\""
   ]
  },
  {
   "cell_type": "code",
   "execution_count": 16,
   "metadata": {},
   "outputs": [],
   "source": [
    "import numpy as np"
   ]
  },
  {
   "cell_type": "code",
   "execution_count": 38,
   "metadata": {},
   "outputs": [],
   "source": [
    "class Agent:\n",
    "    \"\"\"\n",
    "    Represents an agent in the network\n",
    "    Attributes:\n",
    "        share_threshold: float between 0 and 1\n",
    "            how much excitement about a news an agent needs before he shares it.\n",
    "        truth_weight: float between 0 and 1\n",
    "            how important it is for the agent that the news have a high truth likelihood.\n",
    "        has_shared: bool\n",
    "            if the agent has already shared the news\n",
    "\n",
    "    Methods:\n",
    "        compute_truth_likelihood(providers, trust_in_providers)\n",
    "            computes the truth likelihood of the news\n",
    "        compute_excitement(news, truth_likehood)\n",
    "            computes the excitement score of the news\n",
    "        is_sharing(news, providers, trust_in_providers)\n",
    "            returns True if the agent will share the news\n",
    "    \"\"\"\n",
    "\n",
    "    def __init__(self, share_threshold, truth_weight):\n",
    "        \"\"\"\n",
    "        Represents an agent in the network\n",
    "        :param share_threshold: float in [0, 1]\n",
    "            how much excitement about a news an agent needs before he shares it.\n",
    "        :param truth_weight: float in [0, 1]\n",
    "            how important it is that the news have a high truth likelihood\n",
    "        \"\"\"\n",
    "        assert 0 <= share_threshold <= 1, 'Invalid value for share_threshold. Value should be between 0 and 1'\n",
    "        assert 0 <= truth_weight <= 1, 'Invalid value for truth_weight. Value should be between 0 and 1'\n",
    "        \n",
    "        self.share_threshold = share_threshold\n",
    "        self.truth_weight = truth_weight\n",
    "        self.has_shared = False\n",
    "\n",
    "    def compute_truth_likelihood(self, providers, trust_in_providers):\n",
    "        \"\"\"\n",
    "        Computes the truth likelihood of the news based on the trust in the information providers\n",
    "        :param providers: list (list of Agents)\n",
    "            represents the information providers\n",
    "        :param trust_in_providers: numpy.ndarray (normalized)\n",
    "            represents the trust in the information providers\n",
    "        :return: float\n",
    "            Truth likelihood of the news\n",
    "        \"\"\"\n",
    "\n",
    "        assert np.isclose(1, np.sum(trust_in_providers)), 'Invalid value for trust_in_providers. Array should be normalized'\n",
    "        \n",
    "        truth_likelihood = (np.random.rand()-0.5)/100  # adding 1% random stochastic noise\n",
    "        for provider in providers:\n",
    "            if provider.has_shared:\n",
    "                truth_likelihood += trust_in_providers[providers.index(provider)]  \n",
    "        \n",
    "        return truth_likelihood\n",
    "\n",
    "    def compute_excitement(self, news, truth_likehood):\n",
    "        \"\"\"\n",
    "        Computes the excitement score of the news based on its truth likelihood and fitness\n",
    "        :param news: News\n",
    "            News that is shared in the network\n",
    "        :param truth_likelihood: float in [0, 1]\n",
    "            how much the agent believes in the news.    \n",
    "        :return: float\n",
    "            Excitement score of the news\n",
    "        \"\"\"\n",
    "        \n",
    "        return (self.truth_weight * truth_likelihood + (1 - self.truth_weight) * news.fitness) * np.exp(-news.time)\n",
    "\n",
    "    def is_sharing(self, news, providers, trust_in_providers):\n",
    "        \"\"\"\n",
    "        If the agent will share the news.\n",
    "        Functions returns True if\n",
    "         - the agent has not shared the news before\n",
    "         - and, the excitement score is bigger than the share threshold\n",
    "        :param news: News\n",
    "            News that is shared in the network\n",
    "        :param providers: list (list of Agents)\n",
    "            represents the information providers    \n",
    "        :param trust_in_providers: numpy.ndarray (normalized)\n",
    "            represents the trust in the information providers    \n",
    "        :return: bool\n",
    "            If the agent shares the news\n",
    "        \"\"\"\n",
    "\n",
    "        if not self.has_shared and self.compute_excitement(news, compute_truth_likelihood(providers, trust_in_providers)) >= self.share_threshold:\n",
    "            self.has_shared = True\n",
    "            return True\n",
    "        return False\n",
    "\n",
    "    def __str__(self):\n",
    "        return f'Agent: \\n' \\\n",
    "               f'\\tshare threshold: {self.share_threshold}\\n' \\\n",
    "               f'\\ttruth likelihood {self.truth_likelihood}\\n' \\\n",
    "               f'\\ttruth weight {self.truth_weight}\\n' \\\n",
    "               f'\\ttrust in information providers {self.trust_in_providers}\\n' \\\n",
    "               f'\\talready shared news: {self.has_shared}'"
   ]
  },
  {
   "cell_type": "code",
   "execution_count": 39,
   "metadata": {},
   "outputs": [],
   "source": [
    "#Parameters\n",
    "share_threshold = 0.5\n",
    "truth_weight = 0.8\n",
    "trust_in_providers = [0.5,0.2,0.2,0.1]"
   ]
  },
  {
   "cell_type": "code",
   "execution_count": 40,
   "metadata": {},
   "outputs": [],
   "source": [
    "#Declare and instance of an agent\n",
    "my_agent = Agent(share_threshold, truth_weight)\n",
    "my_agent2 = Agent(share_threshold, truth_weight)\n",
    "my_agent3 = Agent(share_threshold, truth_weight)"
   ]
  },
  {
   "cell_type": "code",
   "execution_count": 43,
   "metadata": {},
   "outputs": [
    {
     "data": {
      "text/plain": [
       "0.6997059391553548"
      ]
     },
     "execution_count": 43,
     "metadata": {},
     "output_type": "execute_result"
    }
   ],
   "source": [
    "# Test the methods\n",
    "my_agent2.has_shared = True\n",
    "my_agent3.has_shared = True\n",
    "providers = [my_agent2, my_agent3]\n",
    "#just let share the news to see if then the truth_likelihood of the other agent is calculated correctly\n",
    "my_agent.compute_truth_likelihood(providers, trust_in_providers)"
   ]
  },
  {
   "cell_type": "code",
   "execution_count": null,
   "metadata": {},
   "outputs": [],
   "source": []
  },
  {
   "cell_type": "code",
   "execution_count": null,
   "metadata": {},
   "outputs": [],
   "source": []
  },
  {
   "cell_type": "code",
   "execution_count": null,
   "metadata": {},
   "outputs": [],
   "source": []
  }
 ],
 "metadata": {
  "kernelspec": {
   "display_name": "Python 3",
   "language": "python",
   "name": "python3"
  },
  "language_info": {
   "codemirror_mode": {
    "name": "ipython",
    "version": 3
   },
   "file_extension": ".py",
   "mimetype": "text/x-python",
   "name": "python",
   "nbconvert_exporter": "python",
   "pygments_lexer": "ipython3",
   "version": "3.8.3"
  }
 },
 "nbformat": 4,
 "nbformat_minor": 4
}
